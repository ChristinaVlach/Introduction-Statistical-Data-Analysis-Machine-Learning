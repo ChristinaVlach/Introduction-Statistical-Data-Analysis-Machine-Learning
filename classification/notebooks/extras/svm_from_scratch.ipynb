{
 "cells": [
  {
   "cell_type": "markdown",
   "metadata": {},
   "source": [
    "### Classify digits with or witout circles using Support Vector Machine (SVM)\n",
    "\n",
    "The goal of SVM is to find a hyperplane that maximizes the margin between two classes. Given a dataset of $N$ samples $(x_i, y_i)$ where $x_i \\in \\mathbb{R}^d$ is the feature vector and $y_i \\in \\{-1, 1\\}$ is the class label, we aim to solve the following optimization problem:\n",
    "\n",
    "$$\n",
    "\\text{minimize } J(w, b) = \\frac{1}{2} \\|w\\|^2 + C \\sum_{i=1}^{N} \\max\\left(0, 1 - y_i (w \\cdot x_i + b)\\right)\n",
    "$$\n",
    "\n",
    "### Definitions\n",
    "\n",
    "- $w$: Weight vector (coefficients of the features).\n",
    "- $b$: Bias term (intercept of the hyperplane).\n",
    "- $C$: Regularization parameter that controls the trade-off between maximizing the margin and minimizing the classification error.\n",
    "- $N$: Number of training samples.\n",
    "- $d$: Number of features in each sample."
   ]
  },
  {
   "cell_type": "markdown",
   "metadata": {},
   "source": [
    "### Load dataset"
   ]
  },
  {
   "cell_type": "code",
   "execution_count": 1,
   "metadata": {},
   "outputs": [],
   "source": [
    "import gzip\n",
    "import os\n",
    "import numpy as np\n",
    "import struct\n",
    "\n",
    "\n",
    "def load_mnist(path, kind='train'):\n",
    "    \"\"\"Load MNIST data from `path`\"\"\"\n",
    "    labels_path = os.path.join(path, f'{kind}-labels-idx1-ubyte.gz')\n",
    "    images_path = os.path.join(path, f'{kind}-images-idx3-ubyte.gz')\n",
    "\n",
    "    with gzip.open(labels_path, 'rb') as lbpath:\n",
    "        _, _ = struct.unpack('>II', lbpath.read(8))\n",
    "        labels = np.frombuffer(lbpath.read(), dtype=np.uint8)\n",
    "\n",
    "    with gzip.open(images_path, 'rb') as imgpath:\n",
    "        _, num, rows, cols = struct.unpack('>IIII', imgpath.read(16))\n",
    "        images = np.frombuffer(imgpath.read(), dtype=np.uint8).reshape(num, rows*cols)\n",
    "\n",
    "    return images, labels"
   ]
  },
  {
   "cell_type": "code",
   "execution_count": 2,
   "metadata": {},
   "outputs": [
    {
     "name": "stdout",
     "output_type": "stream",
     "text": [
      "Training set shape: (60000, 784), Training labels shape: (60000,)\n",
      "Test set shape: (10000, 784), Test labels shape: (10000,)\n"
     ]
    }
   ],
   "source": [
    "from sklearn.preprocessing import StandardScaler\n",
    "\n",
    "# Load the dataset\n",
    "mnist_path = '../../../supplemental_material/MNIST' \n",
    "X_train, y_train = load_mnist(mnist_path, kind='train')\n",
    "X_test, y_test = load_mnist(mnist_path, kind='t10k')\n",
    "\n",
    "print(f\"Training set shape: {X_train.shape}, Training labels shape: {y_train.shape}\")\n",
    "print(f\"Test set shape: {X_test.shape}, Test labels shape: {y_test.shape}\")\n",
    "\n",
    "# Define the digits with and without circles\n",
    "circle_digits = [0, 6, 8, 9]\n",
    "no_circle_digits = [1, 2, 3, 4, 5, 7]\n",
    "\n",
    "# Filter the training and test sets to include only the relevant digits\n",
    "train_mask = np.isin(y_train, circle_digits + no_circle_digits)\n",
    "X_train, y_train = X_train[train_mask], y_train[train_mask]\n",
    "\n",
    "test_mask = np.isin(y_test, circle_digits + no_circle_digits)\n",
    "X_test, y_test = X_test[test_mask], y_test[test_mask]\n",
    "\n",
    "# Relabel the data: 1 for circle digits, 0 for no-circle digits\n",
    "y_train = np.where(np.isin(y_train, circle_digits), 1, 0)\n",
    "y_test = np.where(np.isin(y_test, circle_digits), 1, 0)\n",
    "\n",
    "# Normalize the data (important for gradient descent)\n",
    "scaler = StandardScaler()\n",
    "X_train = scaler.fit_transform(X_train)\n",
    "X_test = scaler.transform(X_test)"
   ]
  },
  {
   "cell_type": "markdown",
   "metadata": {},
   "source": [
    "### SVM class"
   ]
  },
  {
   "cell_type": "code",
   "execution_count": 3,
   "metadata": {},
   "outputs": [],
   "source": [
    "class SVM:\n",
    "    def __init__(self, learning_rate=0.001, lambda_param=0.01, num_iterations=1000):\n",
    "        self.learning_rate = learning_rate\n",
    "        self.lambda_param = lambda_param\n",
    "        self.num_iterations = num_iterations\n",
    "        self.w = None\n",
    "        self.b = None\n",
    "\n",
    "    def fit(self, X, y):\n",
    "        _, num_features = X.shape\n",
    "        y = np.where(y <= 0, -1, 1)  # Convert labels to -1 and 1 for SVM\n",
    "\n",
    "        # Initialize weights and bias\n",
    "        self.w = np.zeros(num_features)\n",
    "        self.b = 0\n",
    "\n",
    "        # Gradient descent\n",
    "        for _ in range(self.num_iterations):\n",
    "            for idx, x_i in enumerate(X):\n",
    "                condition = y[idx] * (np.dot(x_i, self.w) - self.b) >= 1\n",
    "                if condition:\n",
    "                    # If the point is correctly classified and outside the margin\n",
    "                    dw = 2 * self.lambda_param * self.w\n",
    "                    db = 0\n",
    "                else:\n",
    "                    # If the point is inside the margin or misclassified\n",
    "                    dw = 2 * self.lambda_param * self.w - np.dot(x_i, y[idx])\n",
    "                    db = y[idx]\n",
    "\n",
    "                # Update weights and bias\n",
    "                self.w -= self.learning_rate * dw\n",
    "                self.b -= self.learning_rate * db\n",
    "\n",
    "    def predict(self, X):\n",
    "        approx = np.dot(X, self.w) - self.b\n",
    "        return np.sign(approx)\n",
    "\n",
    "\n"
   ]
  },
  {
   "cell_type": "markdown",
   "metadata": {},
   "source": [
    "### Train the SVM model"
   ]
  },
  {
   "cell_type": "code",
   "execution_count": 4,
   "metadata": {},
   "outputs": [],
   "source": [
    "# Initialize and train the SVM model\n",
    "svm = SVM(learning_rate=0.001, lambda_param=0.01, num_iterations=1000)\n",
    "svm.fit(X_train[:10000], y_train[:10000])\n",
    "\n",
    "# Predict on the test set\n",
    "y_pred_test = svm.predict(X_test[:2000])\n",
    "\n",
    "# Convert predictions back to 0 and 1\n",
    "y_pred_test = np.where(y_pred_test == -1, 0, 1)"
   ]
  },
  {
   "cell_type": "code",
   "execution_count": 5,
   "metadata": {},
   "outputs": [
    {
     "name": "stdout",
     "output_type": "stream",
     "text": [
      "Test accuracy: 84.25%\n"
     ]
    },
    {
     "data": {
      "image/png": "[encoded data removed]",
      "text/plain": [
       "<Figure size 640x480 with 2 Axes>"
      ]
     },
     "metadata": {},
     "output_type": "display_data"
    },
    {
     "name": "stdout",
     "output_type": "stream",
     "text": [
      "Classification Report:\n",
      "              precision    recall  f1-score   support\n",
      "\n",
      "           0       0.87      0.88      0.88      1261\n",
      "           1       0.79      0.78      0.79       739\n",
      "\n",
      "    accuracy                           0.84      2000\n",
      "   macro avg       0.83      0.83      0.83      2000\n",
      "weighted avg       0.84      0.84      0.84      2000\n",
      "\n"
     ]
    }
   ],
   "source": [
    "from sklearn.metrics import accuracy_score, confusion_matrix, classification_report\n",
    "import seaborn as sns\n",
    "import matplotlib.pyplot as plt\n",
    "\n",
    "# Evaluate the model\n",
    "test_accuracy = accuracy_score(y_test[:2000], y_pred_test)\n",
    "print(f\"Test accuracy: {test_accuracy * 100:.2f}%\")\n",
    "\n",
    "# Confusion matrix and classification report\n",
    "conf_matrix = confusion_matrix(y_test[:2000], y_pred_test)\n",
    "sns.heatmap(conf_matrix, annot=True, fmt='d', cmap='Blues')\n",
    "plt.xlabel('Predicted')\n",
    "plt.ylabel('True')\n",
    "plt.title('Confusion Matrix ')\n",
    "plt.show()\n",
    "\n",
    "print(\"Classification Report:\")\n",
    "print(classification_report(y_test[:2000], y_pred_test))"
   ]
  }
 ],
 "metadata": {
  "kernelspec": {
   "display_name": ".env",
   "language": "python",
   "name": "python3"
  },
  "language_info": {
   "codemirror_mode": {
    "name": "ipython",
    "version": 3
   },
   "file_extension": ".py",
   "mimetype": "text/x-python",
   "name": "python",
   "nbconvert_exporter": "python",
   "pygments_lexer": "ipython3",
   "version": "3.12.6"
  }
 },
 "nbformat": 4,
 "nbformat_minor": 4
}
