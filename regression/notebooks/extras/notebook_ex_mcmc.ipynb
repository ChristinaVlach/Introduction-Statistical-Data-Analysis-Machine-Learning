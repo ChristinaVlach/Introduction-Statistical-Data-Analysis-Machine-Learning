{
 "cells": [
  {
   "cell_type": "markdown",
   "metadata": {},
   "source": [
    "# Example: Markov chain Monte Carlo (MCMC)"
   ]
  },
  {
   "cell_type": "code",
   "execution_count": null,
   "metadata": {},
   "outputs": [],
   "source": [
    "import sys\n",
    "sys.path.append('../../../supplemental_material')\n",
    "\n",
    "import numpy as np\n",
    "import matplotlib.pyplot as plt\n",
    "import synth_dataset as sd\n",
    "import matplotlib.colors as mcolors\n",
    "import emcee\n",
    "import corner\n",
    "from IPython.display import display, Math\n",
    "\n",
    "# Define color-blind-friendly palette\n",
    "hex1 = ['#648FFF', '#785EF0', '#DC267F', '#FE6100', '#FFB000']\n",
    "hex1_inverted = hex1[::-1]\n",
    "colors1=[mcolors.to_rgb(i) for i in hex1]"
   ]
  },
  {
   "cell_type": "markdown",
   "metadata": {},
   "source": [
    "## Generate Dataset"
   ]
  },
  {
   "cell_type": "code",
   "execution_count": 18,
   "metadata": {},
   "outputs": [],
   "source": [
    "# array of x values\n",
    "x = np.linspace(0,1,300)\n",
    "# produce the two gaussian peak signals\n",
    "signal = sd.random_peaks(x,peaks_range=[1,2],c = 0.10, roi_position=[0.45,0.55],ph_min = 0.1, ph_max = 0.5, edge_tol=0.2,method=2)\n",
    "# produce an exponential background \n",
    "background = sd.exponential_bg(len(x))\n",
    "# produce threshold jump\n",
    "threshold = sd.random_arctan_curve(len(x),itx_min=0.1,center_min=0.5,center_max=0.55,x_scale_min=0.05, x_scale_max=0.1)\n"
   ]
  },
  {
   "cell_type": "code",
   "execution_count": 19,
   "metadata": {},
   "outputs": [],
   "source": [
    "\n",
    "# add random noise to generate the raw signal\n",
    "snr = 35\n",
    "raw = sd.add_noise(snr=snr, signal = signal + background + threshold)"
   ]
  },
  {
   "cell_type": "code",
   "execution_count": null,
   "metadata": {},
   "outputs": [],
   "source": [
    "# plot the data\n",
    "plt.scatter(x,raw,label='Raw data',color=colors1[0])\n",
    "plt.plot(x,signal,label='Signal',ls='--',color=colors1[1])\n",
    "plt.plot(x,background,label='Background',ls='--',color=colors1[2])\n",
    "plt.plot(x,threshold,label='Threshold',ls='--',color=colors1[3])\n",
    "plt.xlabel('x')\n",
    "plt.ylabel('Intensity')\n",
    "plt.legend()\n",
    "plt.show()"
   ]
  },
  {
   "cell_type": "markdown",
   "metadata": {},
   "source": [
    "## Define Theoretical Model"
   ]
  },
  {
   "cell_type": "markdown",
   "metadata": {},
   "source": [
    "### Signals"
   ]
  },
  {
   "cell_type": "code",
   "execution_count": 21,
   "metadata": {},
   "outputs": [],
   "source": [
    "def gaussians(x, params,ngauss):\n",
    "    gaussians = []\n",
    "    for i in range(ngauss):\n",
    "        A=params['amp%s'%str(i)]\n",
    "        mu=params['mu%s'%str(i)]\n",
    "        sigma=params['sigma%s'%str(i)]\n",
    "        val = A/np.sqrt(2*np.pi)/sigma * np.exp(-0.5 * ((x - mu) / sigma) ** 2)\n",
    "        gaussians.append(val)\n",
    "    return gaussians\n"
   ]
  },
  {
   "cell_type": "markdown",
   "metadata": {},
   "source": [
    "### Threshold"
   ]
  },
  {
   "cell_type": "code",
   "execution_count": 22,
   "metadata": {},
   "outputs": [],
   "source": [
    "def arctans(x, params,narctan):\n",
    "    arctans = []\n",
    "    for i in range(narctan):\n",
    "        itx = params['itx%s'%str(i)]\n",
    "        x_tan = params['x%s_tan'%str(i)]\n",
    "        pos_tan = params['pos%s_tan'%str(i)]\n",
    "        val = itx / np.pi * (np.arctan((x - pos_tan)/x_tan) + np.pi/2)\n",
    "        arctans.append(val)\n",
    "    return arctans"
   ]
  },
  {
   "cell_type": "markdown",
   "metadata": {},
   "source": [
    "### Backgrounds"
   ]
  },
  {
   "cell_type": "code",
   "execution_count": 23,
   "metadata": {},
   "outputs": [],
   "source": [
    "\n",
    "def backgrounds_poly(x,params,npoly):\n",
    "    polys = []\n",
    "    for i in range(npoly):\n",
    "        poly = params['poly%s'%str(i)]\n",
    "        val = poly*x**i\n",
    "        polys.append(val)\n",
    "    return polys\n",
    "\n",
    "def backgrounds_exp(x,params):\n",
    "    val = params['exp1']*np.exp(params['exp2']*x)\n",
    "    return val\n"
   ]
  },
  {
   "cell_type": "markdown",
   "metadata": {},
   "source": [
    "### Full Model"
   ]
  },
  {
   "cell_type": "code",
   "execution_count": 24,
   "metadata": {},
   "outputs": [],
   "source": [
    "def raw_model(x,params,npoly,narctans,ngauss):\n",
    "    model = np.sum(backgrounds_poly(x, params,npoly),axis=0) +backgrounds_exp(x,params)+ np.sum(arctans(x,params,narctans),axis=0) + np.sum(gaussians(x,params,ngauss),axis=0)\n",
    "    return model"
   ]
  },
  {
   "cell_type": "markdown",
   "metadata": {},
   "source": [
    "Adapt parameters dictionary to input expected by EMCEE"
   ]
  },
  {
   "cell_type": "code",
   "execution_count": 25,
   "metadata": {},
   "outputs": [],
   "source": [
    "def parconverter(theta,npoly,narctans,ngauss):\n",
    "    params = {'exp1':theta[0],'exp2':theta[1]}\n",
    "    for i in range(npoly):\n",
    "        params['poly%s'%str(i)] = theta[2+i]\n",
    "    for i in range(narctans):\n",
    "        params['itx%s'%str(i)] = theta[2+npoly+i]\n",
    "        params['x%s_tan'%str(i)] = theta[2+npoly+narctans+i]\n",
    "        params['pos%s_tan'%str(i)] = theta[2+npoly+2*narctans+i]\n",
    "    for i in range(ngauss):\n",
    "        params['amp%s'%str(i)] = theta[2+npoly+3*narctans+i]\n",
    "        params['mu%s'%str(i)] = theta[2+npoly+3*narctans+ngauss+i]\n",
    "        params['sigma%s'%str(i)] = theta[2+npoly+3*narctans+2*ngauss+i]\n",
    "    return params"
   ]
  },
  {
   "cell_type": "markdown",
   "metadata": {},
   "source": [
    "## Prior Distribution Setup"
   ]
  },
  {
   "cell_type": "markdown",
   "metadata": {},
   "source": [
    "Given our knowledge of the experiment, and observation of data, we can provide a rough ansatz on the initial values of the parameters to make it easier for the sampler to find a good best fit model."
   ]
  },
  {
   "cell_type": "markdown",
   "metadata": {},
   "source": [
    "This procedure can, and should, be automatized. "
   ]
  },
  {
   "cell_type": "code",
   "execution_count": 10,
   "metadata": {},
   "outputs": [],
   "source": [
    "# select the degree of the polynomials\n",
    "npoly = 0\n",
    "# select the number of arctans we expect\n",
    "narctans = 1\n",
    "# select the number of gaussians we expect\n",
    "ngauss = 1\n",
    "                  \n",
    "initial = np.array([1.0,-3.0,0.5,0.1,0.55,0.15,0.55,0.05]) #exp1,exp2,arc1,arc2,arc3,gauss1,gauss2,gauss3\n",
    "params = parconverter(initial,npoly,narctans,ngauss)"
   ]
  },
  {
   "cell_type": "code",
   "execution_count": null,
   "metadata": {},
   "outputs": [],
   "source": [
    "plt.scatter(x,raw,label='Raw', s=10, color=colors1[0])\n",
    "plt.plot(x,raw_model(x,params,npoly,narctans,ngauss),label='Init Model',color=colors1[2])\n",
    "#plt.plot(x,backgrounds_exp(x,params),label='Background Model',color=colors1[1])\n",
    "#plt.plot(x,arctans(x,params,narctans)[0],label='Threshold Model',color=colors1[3])\n",
    "#plt.plot(x,gaussians(x,params,ngauss)[0],label='Signal Model',color=colors1[4])\n",
    "#plt.plot(x,signal,label='Signal',ls='--',color=colors1[4])\n",
    "#plt.plot(x,background,label='Background',ls='--',color=colors1[1])\n",
    "#plt.plot(x,threshold,label='Threshold',ls='--',color=colors1[3])\n",
    "plt.xlabel('x')\n",
    "plt.ylabel('Intensity')\n",
    "\n",
    "plt.legend()"
   ]
  },
  {
   "cell_type": "markdown",
   "metadata": {},
   "source": [
    "## EMCEE Setup"
   ]
  },
  {
   "cell_type": "markdown",
   "metadata": {},
   "source": [
    "### Define Model"
   ]
  },
  {
   "cell_type": "code",
   "execution_count": 12,
   "metadata": {},
   "outputs": [],
   "source": [
    "def model(theta,x,npoly,narctans,ngauss):\n",
    "    params = parconverter(theta,npoly,narctans,ngauss)\n",
    "    return raw_model(x,params,npoly,narctans,ngauss)"
   ]
  },
  {
   "cell_type": "markdown",
   "metadata": {},
   "source": [
    "### Define Likelihood"
   ]
  },
  {
   "cell_type": "code",
   "execution_count": 13,
   "metadata": {},
   "outputs": [],
   "source": [
    "def lnlike(theta, x, y, yerr, npoly, narctans, ngauss):\n",
    "    ymodel = model(theta,x,npoly,narctans,ngauss)\n",
    "    inv_sigma2 = 1.0/(yerr**2)\n",
    "    return -0.5*(np.sum((y-ymodel)**2*inv_sigma2))"
   ]
  },
  {
   "cell_type": "markdown",
   "metadata": {},
   "source": [
    "### Define Priors"
   ]
  },
  {
   "cell_type": "code",
   "execution_count": 14,
   "metadata": {},
   "outputs": [],
   "source": [
    "def lnprior(theta, initial):\n",
    "    j=0\n",
    "    for i in range(len(theta)):\n",
    "        if np.abs(theta[i]/initial[i]-1)>2.0:\n",
    "            j+=1\n",
    "    if j > 0:\n",
    "        return -np.inf\n",
    "    else:\n",
    "        return 0.0"
   ]
  },
  {
   "cell_type": "markdown",
   "metadata": {},
   "source": [
    "### Define Probability"
   ]
  },
  {
   "cell_type": "code",
   "execution_count": 15,
   "metadata": {},
   "outputs": [],
   "source": [
    "    \n",
    "def lnprob(theta, x, y, yerr, initial, npoly, narctans, ngauss):\n",
    "    lp = lnprior(theta, initial)\n",
    "    if not np.isfinite(lp):\n",
    "        return -np.inf\n",
    "    return lp + lnlike(theta, x, y, yerr, npoly, narctans, ngauss)\n"
   ]
  },
  {
   "cell_type": "markdown",
   "metadata": {},
   "source": [
    "### Estimate Noise"
   ]
  },
  {
   "cell_type": "code",
   "execution_count": 16,
   "metadata": {},
   "outputs": [],
   "source": [
    "squared_signal = signal ** 2\n",
    "signal_power = np.sum(squared_signal) / len(squared_signal)\n",
    "# Calculate the noise power using the specified SNR in units of dB\n",
    "snr_linear = 10 ** (snr / 10)\n",
    "# Calculate the standard deviation of the noise\n",
    "noise_std_dev = np.sqrt(signal_power / snr_linear)"
   ]
  },
  {
   "cell_type": "markdown",
   "metadata": {},
   "source": [
    "### Initialise emcee parameters"
   ]
  },
  {
   "cell_type": "code",
   "execution_count": 17,
   "metadata": {},
   "outputs": [],
   "source": [
    "\n",
    "nwalkers = 2000\n",
    "ndim = 2+npoly+3*narctans+3*ngauss\n",
    "init = initial \n",
    "#p0 =np.random.rand(nwalkers, ndim)\n",
    "p0 = np.random.normal(loc=initial, scale=1, size=(nwalkers, ndim))\n"
   ]
  },
  {
   "cell_type": "markdown",
   "metadata": {},
   "source": [
    "### Initialise Sampler"
   ]
  },
  {
   "cell_type": "code",
   "execution_count": 18,
   "metadata": {},
   "outputs": [],
   "source": [
    "sampler = emcee.EnsembleSampler(nwalkers, ndim, lnprob, args=(x, raw, noise_std_dev, initial, npoly, narctans, ngauss))"
   ]
  },
  {
   "cell_type": "markdown",
   "metadata": {},
   "source": [
    "### Burn-in Phase"
   ]
  },
  {
   "cell_type": "code",
   "execution_count": null,
   "metadata": {},
   "outputs": [],
   "source": [
    "nsteps_burnin = 2000\n",
    "state, _, _ = sampler.run_mcmc(p0, nsteps_burnin, progress=True)\n",
    "sampler.reset()\n"
   ]
  },
  {
   "cell_type": "markdown",
   "metadata": {},
   "source": [
    "### Production Phase"
   ]
  },
  {
   "cell_type": "code",
   "execution_count": null,
   "metadata": {},
   "outputs": [],
   "source": [
    "nsteps = 2000\n",
    "sampler.run_mcmc(state, nsteps,progress=True)\n",
    "samples = sampler.chain[:, nsteps//10:, :].reshape((-1, ndim))    #skip the first 10% of the chain"
   ]
  },
  {
   "cell_type": "markdown",
   "metadata": {},
   "source": [
    "### Results"
   ]
  },
  {
   "cell_type": "code",
   "execution_count": 29,
   "metadata": {},
   "outputs": [],
   "source": [
    "def plotter(sampler):\n",
    "    plt.ion()\n",
    "    plt.plot(x,raw,label='raw')\n",
    "    samples = sampler.flatchain\n",
    "    for theta in samples[np.random.randint(len(samples), size=100)]:\n",
    "        plt.plot(x, model(theta, x,npoly,narctans,ngauss), color=\"r\", alpha=0.1)\n",
    "    plt.ticklabel_format(style='sci', axis='x', scilimits=(0,0))\n",
    "    plt.xlabel('x')\n",
    "    plt.ylabel('Intensity')\n",
    "    plt.legend()\n",
    "    plt.show()"
   ]
  },
  {
   "cell_type": "code",
   "execution_count": null,
   "metadata": {},
   "outputs": [],
   "source": [
    "plotter(sampler)"
   ]
  },
  {
   "cell_type": "code",
   "execution_count": 31,
   "metadata": {},
   "outputs": [],
   "source": [
    "samples = sampler.flatchain\n",
    "theta_max = samples[np.argmax(sampler.flatlnprobability)]\n",
    "params = parconverter(theta_max,npoly,narctans,ngauss)"
   ]
  },
  {
   "cell_type": "code",
   "execution_count": null,
   "metadata": {},
   "outputs": [],
   "source": [
    "plt.scatter(x,raw,label='Raw', s=10, color=colors1[0])\n",
    "plt.plot(x,raw_model(x,params,npoly,narctans,ngauss),label='Model',color=colors1[2])\n",
    "plt.plot(x,signal+background+threshold,label='Truth',ls='--',color=colors1[2])\n",
    "#plt.plot(x,backgrounds_poly(x,params,npoly)[0],label='Polynomial Background')\n",
    "plt.plot(x,backgrounds_exp(x,params),label='Background Model',color=colors1[1])\n",
    "plt.plot(x,arctans(x,params,narctans)[0],label='Threshold Model',color=colors1[3])\n",
    "plt.plot(x,gaussians(x,params,ngauss)[0],label='Signal Model',color=colors1[4])\n",
    "#plt.plot(x,gaussians(x,params,ngauss)[1],label='Gaussians')\n",
    "plt.plot(x,signal,label='Signal',ls='--',color=colors1[4])\n",
    "plt.plot(x,background,label='Background',ls='--',color=colors1[1])\n",
    "plt.plot(x,threshold,label='Threshold',ls='--',color=colors1[3])\n",
    "plt.xlabel('x')\n",
    "plt.ylabel('Intensity')\n",
    "\n",
    "plt.legend()\n",
    "\n",
    "#plt.legend()"
   ]
  },
  {
   "cell_type": "code",
   "execution_count": null,
   "metadata": {},
   "outputs": [],
   "source": [
    "flat_samples = sampler.get_chain(discard=100, thin=15, flat=True)\n",
    "labels = ['exp1','exp2','itx1','x1tan','pos1tan','amp1','mu1','sigma1']\n",
    "fig = corner.corner(\n",
    "    flat_samples, labels=labels\n",
    ");"
   ]
  },
  {
   "cell_type": "code",
   "execution_count": null,
   "metadata": {},
   "outputs": [],
   "source": [
    "for i in range(ndim):\n",
    "    mcmc = np.percentile(flat_samples[:, i], [16, 50, 84])\n",
    "    q = np.diff(mcmc)\n",
    "    txt = \"\\mathrm{{{3}}} = {0:.3f}_{{-{1:.3f}}}^{{{2:.3f}}}\"\n",
    "    txt = txt.format(mcmc[1], q[0], q[1], labels[i])\n",
    "    display(Math(txt))"
   ]
  },
  {
   "cell_type": "code",
   "execution_count": null,
   "metadata": {},
   "outputs": [],
   "source": []
  }
 ],
 "metadata": {
  "kernelspec": {
   "display_name": "base",
   "language": "python",
   "name": "python3"
  },
  "language_info": {
   "codemirror_mode": {
    "name": "ipython",
    "version": 3
   },
   "file_extension": ".py",
   "mimetype": "text/x-python",
   "name": "python",
   "nbconvert_exporter": "python",
   "pygments_lexer": "ipython3",
   "version": "3.10.10"
  }
 },
 "nbformat": 4,
 "nbformat_minor": 2
}
