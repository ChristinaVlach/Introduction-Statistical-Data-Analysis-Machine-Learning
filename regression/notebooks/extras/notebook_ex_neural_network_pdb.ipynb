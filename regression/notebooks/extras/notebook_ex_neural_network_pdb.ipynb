{
 "cells": [
  {
   "cell_type": "markdown",
   "metadata": {},
   "source": [
    "# Example: Find a model for Proteins"
   ]
  },
  {
   "cell_type": "code",
   "execution_count": 1,
   "metadata": {},
   "outputs": [],
   "source": [
    "import json\n",
    "import gzip\n",
    "import numpy as np\n",
    "import torch\n",
    "import torch.nn as nn\n",
    "import torch.optim as optim\n",
    "from torch.optim.lr_scheduler import StepLR\n",
    "from torch.utils.data import TensorDataset, DataLoader\n",
    "\n",
    "\n",
    "import matplotlib.colors as mcolors\n",
    "import matplotlib.pyplot as plt\n",
    "\n",
    "# Define color-blind-friendly palette\n",
    "hex1 = ['#648FFF', '#785EF0', '#DC267F', '#FE6100', '#FFB000']\n",
    "hex1_inverted = hex1[::-1]\n",
    "colors1=[mcolors.to_rgb(i) for i in hex1]"
   ]
  },
  {
   "cell_type": "markdown",
   "metadata": {},
   "source": [
    "## Load protein data from PDB dataset"
   ]
  },
  {
   "cell_type": "code",
   "execution_count": 2,
   "metadata": {},
   "outputs": [],
   "source": [
    "jsons = []\n",
    "with gzip.open('../../../supplemental_material/pdb/dataset_6000.gz', 'r') as file:\n",
    "    for line in file:\n",
    "        jsons.append(json.loads(line))"
   ]
  },
  {
   "cell_type": "code",
   "execution_count": 3,
   "metadata": {},
   "outputs": [
    {
     "name": "stdout",
     "output_type": "stream",
     "text": [
      "5139 entries\n"
     ]
    }
   ],
   "source": [
    "data = jsons[0]\n",
    "print(str(len(data)) + \" entries\")"
   ]
  },
  {
   "cell_type": "code",
   "execution_count": 4,
   "metadata": {},
   "outputs": [],
   "source": [
    "def char_to_float(s):\n",
    "    parts = s.split()\n",
    "    for i in range(len(parts)):\n",
    "        if parts[i].isalpha():\n",
    "            parts[i] = float(ord(parts[i]))/100\n",
    "        else:\n",
    "            parts[i] = float(parts[i])\n",
    "    return np.sum(parts)/len(parts)\n"
   ]
  },
  {
   "cell_type": "markdown",
   "metadata": {},
   "source": [
    "## Generate train and test datasets from entries of the proteins"
   ]
  },
  {
   "cell_type": "markdown",
   "metadata": {},
   "source": [
    "### Problem 1: Learn relation between Solvent Content and Matthews Coefficient"
   ]
  },
  {
   "cell_type": "code",
   "execution_count": 5,
   "metadata": {},
   "outputs": [
    {
     "name": "stdout",
     "output_type": "stream",
     "text": [
      "Number of entries: 5068\n"
     ]
    }
   ],
   "source": [
    "all_inputs = np.zeros((len(data), 1))\n",
    "all_targets = np.zeros((len(data), 1))\n",
    "indices = []\n",
    "for i in range(len(data)):\n",
    "    entry = data[i]['entry']\n",
    "    if 'exptl_crystal' in entry and 'density_matthews' in entry['exptl_crystal'][0] and 'density_percent_sol' in entry['exptl_crystal'][0]:\n",
    "        all_inputs[i] = entry['exptl_crystal'][0]['density_matthews']\n",
    "        all_targets[i] = entry['exptl_crystal'][0]['density_percent_sol']\n",
    "        indices.append(i)\n",
    "    # else:\n",
    "    #     print('skipped %d' % i)\n",
    "all_inputs = all_inputs[indices]\n",
    "all_targets = all_targets[indices]\n",
    "\n",
    "print('Number of entries: %d' % len(all_inputs))"
   ]
  },
  {
   "cell_type": "markdown",
   "metadata": {},
   "source": [
    "#### Set up training and test set"
   ]
  },
  {
   "cell_type": "code",
   "execution_count": 6,
   "metadata": {},
   "outputs": [],
   "source": [
    "# Set random seed for reproducibility\n",
    "np.random.seed(42)\n",
    "\n",
    "# Shuffle the indices\n",
    "indices = np.random.permutation(len(all_inputs))\n",
    "\n",
    "# Split the indices for training, testing, and validation sets\n",
    "train_indices = indices[:5 * len(all_inputs) // 6]\n",
    "test_indices = indices[5 * len(all_inputs) // 6:]\n",
    "\n",
    "# Create the training, testing, and validation sets\n",
    "inputs_training = all_inputs[train_indices]\n",
    "targets_training = all_targets[train_indices]\n",
    "inputs_testing = all_inputs[test_indices]\n",
    "targets_testing = all_targets[test_indices]"
   ]
  },
  {
   "cell_type": "markdown",
   "metadata": {},
   "source": [
    "#### Normalize inputs"
   ]
  },
  {
   "cell_type": "code",
   "execution_count": 7,
   "metadata": {},
   "outputs": [],
   "source": [
    "from sklearn.preprocessing import StandardScaler\n",
    "\n",
    "# Initialize the scaler\n",
    "scaler = StandardScaler()\n",
    "\n",
    "# Fit the scaler on the training data and transform both training and testing data\n",
    "inputs_training = scaler.fit_transform(inputs_training)\n",
    "inputs_testing = scaler.transform(inputs_testing)"
   ]
  },
  {
   "cell_type": "code",
   "execution_count": 8,
   "metadata": {},
   "outputs": [],
   "source": [
    "input_tensor = torch.tensor(inputs_training, dtype=torch.float32)\n",
    "target_tensor = torch.tensor(targets_training, dtype=torch.float32)"
   ]
  },
  {
   "cell_type": "markdown",
   "metadata": {},
   "source": [
    "#### Define model"
   ]
  },
  {
   "cell_type": "code",
   "execution_count": 9,
   "metadata": {},
   "outputs": [],
   "source": [
    "# Define the model architecture using a sequential container\n",
    "\n",
    "# define input size, hidden layer size, output size \n",
    "D_i, D_k, D_o = 1, 500, 1\n",
    "\n",
    "# The model consists of:\n",
    "model = nn.Sequential(\n",
    "    nn.Linear(D_i, D_k),\n",
    "    nn.ReLU(),\n",
    "    nn.Linear(D_k, D_k),\n",
    "    nn.ReLU(),\n",
    "    nn.Linear(D_k, D_o),\n",
    ")"
   ]
  },
  {
   "cell_type": "markdown",
   "metadata": {},
   "source": [
    "#### Define Loss Function"
   ]
  },
  {
   "cell_type": "code",
   "execution_count": 10,
   "metadata": {},
   "outputs": [],
   "source": [
    "# Define the loss function and optimizer\n",
    "# Mean Squared Error (MSE) is used as the loss function\n",
    "criterion = nn.MSELoss()"
   ]
  },
  {
   "cell_type": "markdown",
   "metadata": {},
   "source": [
    "#### Optimization"
   ]
  },
  {
   "cell_type": "code",
   "execution_count": 11,
   "metadata": {},
   "outputs": [],
   "source": [
    "# Adam optimizer is used with weight decay (L2 regularization) to prevent overfitting\n",
    "optimizer = optim.Adam(model.parameters(), weight_decay=1e-5)\n",
    "# object that decreases learning rate by half every N epochs \n",
    "scheduler = StepLR(optimizer, step_size=50, gamma=0.5)"
   ]
  },
  {
   "cell_type": "markdown",
   "metadata": {},
   "source": [
    "#### Training process"
   ]
  },
  {
   "cell_type": "code",
   "execution_count": null,
   "metadata": {},
   "outputs": [],
   "source": [
    "\n",
    "# Train the model\n",
    "num_epochs = 1000  # Number of epochs to train the model\n",
    "losses = []  # List to store the loss value for each epoch\n",
    "# load data\n",
    "data_loader = DataLoader(TensorDataset(input_tensor,target_tensor), batch_size=64)\n",
    "# Iterate over the epochs\n",
    "for epoch in range(num_epochs):\n",
    "    epoch_loss = 0.0  # Initialize the loss value for this epoch\n",
    "    # Iterate over the training data in batches\n",
    "    for i, dataset in enumerate(data_loader):\n",
    "        # Get the inputs and targets from the data loader\n",
    "        inputs, targets = dataset\n",
    "        # Clear the gradients of all optimized tensors\n",
    "        optimizer.zero_grad()  \n",
    "        \n",
    "        # Forward pass: compute the model output\n",
    "        outputs = model(inputs)\n",
    "        # Compute the loss between the model output and the actual targets\n",
    "        loss = criterion(outputs, targets)\n",
    "        \n",
    "        # Backward pass and optimization\n",
    "        loss.backward()        # Compute the gradient of the loss with respect to model parameters\n",
    "        optimizer.step()       # Update the model parameters based on the computed gradients\n",
    "        \n",
    "        # Store the loss value for this epoch\n",
    "        epoch_loss += loss.item()\n",
    "    losses.append(epoch_loss)  # Store the loss value for this epoch\n",
    "    print(f'Epoch {epoch:5d}, loss {epoch_loss:.3f}')\n",
    "    # tell scheduler to consider updating learning rate \n",
    "    scheduler.step()"
   ]
  },
  {
   "cell_type": "markdown",
   "metadata": {},
   "source": [
    "#### Performance"
   ]
  },
  {
   "cell_type": "code",
   "execution_count": null,
   "metadata": {},
   "outputs": [],
   "source": [
    "plt.plot(losses)\n",
    "plt.xscale('log')\n",
    "plt.yscale('log')\n",
    "plt.xlabel('Iteration')\n",
    "plt.ylabel('Loss')\n",
    "plt.show()"
   ]
  },
  {
   "cell_type": "code",
   "execution_count": 14,
   "metadata": {},
   "outputs": [],
   "source": [
    "predictions_test = model(torch.tensor(inputs_testing, dtype=torch.float32)).detach().numpy()"
   ]
  },
  {
   "cell_type": "code",
   "execution_count": null,
   "metadata": {},
   "outputs": [],
   "source": [
    "plt.plot(100*(predictions_test/targets_testing-1))\n",
    "plt.xlabel('Index')\n",
    "plt.ylabel('Percent Error')\n",
    "plt.ylim([-25,25])\n",
    "plt.show()"
   ]
  },
  {
   "cell_type": "code",
   "execution_count": null,
   "metadata": {},
   "outputs": [],
   "source": [
    "var_performance = np.sum((predictions_test - targets_testing)**2)/len(predictions_test)\n",
    "print('Variance of performance: %.3f' % var_performance)"
   ]
  },
  {
   "cell_type": "code",
   "execution_count": null,
   "metadata": {},
   "outputs": [],
   "source": [
    "order = np.argsort(targets_testing.flatten())\n",
    "xvals = np.arange(len(targets_testing))\n",
    "plt.scatter(xvals,predictions_test[order],label='Predictions',s=10,color=colors1[0])\n",
    "plt.plot(xvals,targets_testing[order],label='Targets',color=colors1[2])\n",
    "#plt.fill_between(xvals,targets_testing[order].flatten()-np.sqrt(var_performance),targets_testing[order].flatten()+np.sqrt(var_performance),alpha=0.5,color=colors1[2])\n",
    "plt.xlabel('Index')\n",
    "plt.ylabel('Matthews Coefficient')\n",
    "plt.legend()\n",
    "plt.show()"
   ]
  },
  {
   "cell_type": "markdown",
   "metadata": {},
   "source": [
    "### Problem 2: Learn Matthews Coefficient from geometry and mass of protein"
   ]
  },
  {
   "cell_type": "code",
   "execution_count": null,
   "metadata": {},
   "outputs": [],
   "source": [
    "all_inputs = np.zeros((len(data), 9))\n",
    "all_targets = np.zeros((len(data), 1))\n",
    "indices = []\n",
    "for i in range(len(data)):\n",
    "    entry = data[i]['entry']\n",
    "    if 'cell' in entry and 'density_matthews' in entry['exptl_crystal'][0]:\n",
    "        all_inputs[i, 0] = entry['cell']['angle_alpha']\n",
    "        all_inputs[i, 1] = entry['cell']['angle_beta']\n",
    "        all_inputs[i, 2] = entry['cell']['angle_gamma']\n",
    "        all_inputs[i, 3] = entry['cell']['length_a']\n",
    "        all_inputs[i, 4] = entry['cell']['length_b']\n",
    "        all_inputs[i, 5] = entry['cell']['length_c']\n",
    "        all_inputs[i, 6] = char_to_float(entry['symmetry']['space_group_name_hm'])\n",
    "        all_inputs[i, 7] = float(entry['symmetry']['int_tables_number'])\n",
    "        all_inputs[i, 8] = len(entry['pdbx_seq_one_letter_code'])*110    # protein mass estimation\n",
    "        all_targets[i] = entry['exptl_crystal'][0]['density_matthews']\n",
    "        indices.append(i)\n",
    "    # else:\n",
    "    #     print('skipped %d' % i)\n",
    "all_inputs = all_inputs[indices]\n",
    "all_targets = all_targets[indices]\n",
    "\n",
    "print('Number of entries: %d' % len(all_inputs))"
   ]
  },
  {
   "cell_type": "code",
   "execution_count": 19,
   "metadata": {},
   "outputs": [],
   "source": [
    "# Set random seed for reproducibility\n",
    "np.random.seed(42)\n",
    "\n",
    "# Shuffle the indices\n",
    "indices = np.random.permutation(len(all_inputs))\n",
    "\n",
    "# Split the indices for training, testing, and validation sets\n",
    "train_indices = indices[:5 * len(all_inputs) // 6]\n",
    "test_indices = indices[5 * len(all_inputs) // 6:]\n",
    "\n",
    "# Create the training, testing, and validation sets\n",
    "inputs_training = all_inputs[train_indices]\n",
    "targets_training = all_targets[train_indices]\n",
    "inputs_testing = all_inputs[test_indices]\n",
    "targets_testing = all_targets[test_indices]"
   ]
  },
  {
   "cell_type": "code",
   "execution_count": 20,
   "metadata": {},
   "outputs": [],
   "source": [
    "from sklearn.preprocessing import StandardScaler\n",
    "\n",
    "# Initialize the scaler\n",
    "scaler = StandardScaler()\n",
    "\n",
    "# Fit the scaler on the training data and transform both training and testing data\n",
    "inputs_training = scaler.fit_transform(inputs_training)\n",
    "inputs_testing = scaler.transform(inputs_testing)"
   ]
  },
  {
   "cell_type": "code",
   "execution_count": 21,
   "metadata": {},
   "outputs": [],
   "source": [
    "input_tensor = torch.tensor(inputs_training, dtype=torch.float32)\n",
    "target_tensor = torch.tensor(targets_training, dtype=torch.float32)"
   ]
  },
  {
   "cell_type": "markdown",
   "metadata": {},
   "source": [
    "## Define Model"
   ]
  },
  {
   "cell_type": "code",
   "execution_count": 22,
   "metadata": {},
   "outputs": [],
   "source": [
    "# Define the model architecture using a sequential container\n",
    "\n",
    "# define input size, hidden layer size, output size \n",
    "D_i, D_k, D_o = 9, 500, 1\n",
    "\n",
    "# The model consists of:\n",
    "model = nn.Sequential(\n",
    "    nn.Linear(D_i, D_k),\n",
    "    nn.ReLU(),\n",
    "    nn.Linear(D_k, D_k),\n",
    "    nn.ReLU(),\n",
    "    nn.Linear(D_k, D_k),\n",
    "    nn.ReLU(),\n",
    "    nn.Linear(D_k, D_k),\n",
    "    nn.ReLU(),\n",
    "    nn.Linear(D_k, D_k),\n",
    "    nn.ReLU(),\n",
    "    nn.Linear(D_k, D_k),\n",
    "    nn.ReLU(),\n",
    "    nn.Linear(D_k, D_k),\n",
    "    nn.ReLU(),\n",
    "    nn.Linear(D_k, D_k),\n",
    "    nn.ReLU(),\n",
    "    nn.Linear(D_k, D_k),\n",
    "    nn.ReLU(),\n",
    "    nn.Linear(D_k, D_o),\n",
    ")"
   ]
  },
  {
   "cell_type": "code",
   "execution_count": 23,
   "metadata": {},
   "outputs": [],
   "source": [
    "# Define the loss function and optimizer\n",
    "# Mean Squared Error (MSE) is used as the loss function\n",
    "criterion = nn.MSELoss()"
   ]
  },
  {
   "cell_type": "code",
   "execution_count": 24,
   "metadata": {},
   "outputs": [],
   "source": [
    "# Adam optimizer is used with weight decay (L2 regularization) to prevent overfitting\n",
    "optimizer = optim.Adam(model.parameters(), weight_decay=1e-5)\n",
    "# object that decreases learning rate by half every N epochs \n",
    "scheduler = StepLR(optimizer, step_size=50, gamma=0.5)"
   ]
  },
  {
   "cell_type": "code",
   "execution_count": null,
   "metadata": {},
   "outputs": [],
   "source": [
    "\n",
    "# Train the model\n",
    "num_epochs = 1000  # Number of epochs to train the model\n",
    "losses = []  # List to store the loss value for each epoch\n",
    "# load data\n",
    "data_loader = DataLoader(TensorDataset(input_tensor,target_tensor), batch_size=64)\n",
    "# Iterate over the epochs\n",
    "for epoch in range(num_epochs):\n",
    "    epoch_loss = 0.0  # Initialize the loss value for this epoch\n",
    "    # Iterate over the training data in batches\n",
    "    for i, dataset in enumerate(data_loader):\n",
    "        # Get the inputs and targets from the data loader\n",
    "        inputs, targets = dataset\n",
    "        # Clear the gradients of all optimized tensors\n",
    "        optimizer.zero_grad()  \n",
    "        \n",
    "        # Forward pass: compute the model output\n",
    "        outputs = model(inputs)\n",
    "        # Compute the loss between the model output and the actual targets\n",
    "        loss = criterion(outputs, targets)\n",
    "        \n",
    "        # Backward pass and optimization\n",
    "        loss.backward()        # Compute the gradient of the loss with respect to model parameters\n",
    "        optimizer.step()       # Update the model parameters based on the computed gradients\n",
    "        \n",
    "        # Store the loss value for this epoch\n",
    "        epoch_loss += loss.item()\n",
    "    losses.append(epoch_loss)  # Store the loss value for this epoch\n",
    "    print(f'Epoch {epoch:5d}, loss {epoch_loss:.3f}')\n",
    "    # tell scheduler to consider updating learning rate \n",
    "    scheduler.step()"
   ]
  },
  {
   "cell_type": "code",
   "execution_count": null,
   "metadata": {},
   "outputs": [],
   "source": [
    "plt.plot(losses)\n",
    "plt.xscale('log')\n",
    "plt.yscale('log')\n",
    "plt.xlabel('Iteration')\n",
    "plt.ylabel('Loss')\n",
    "plt.show()"
   ]
  },
  {
   "cell_type": "code",
   "execution_count": 27,
   "metadata": {},
   "outputs": [],
   "source": [
    "predictions_test = model(torch.tensor(inputs_testing, dtype=torch.float32)).detach().numpy()"
   ]
  },
  {
   "cell_type": "code",
   "execution_count": null,
   "metadata": {},
   "outputs": [],
   "source": [
    "plt.plot(100*(predictions_test/targets_testing-1))\n",
    "plt.xlabel('Index')\n",
    "plt.ylabel('Percent Error')\n",
    "plt.ylim([-25,25])\n",
    "plt.show()"
   ]
  },
  {
   "cell_type": "code",
   "execution_count": null,
   "metadata": {},
   "outputs": [],
   "source": [
    "var_performance = np.sum((predictions_test - targets_testing)**2)/len(predictions_test)\n",
    "print('Variance of performance: %.3f' % var_performance)"
   ]
  },
  {
   "cell_type": "code",
   "execution_count": null,
   "metadata": {},
   "outputs": [],
   "source": [
    "order = np.argsort(targets_testing.flatten())\n",
    "xvals = np.arange(len(targets_testing))\n",
    "plt.scatter(xvals,predictions_test[order],label='Predictions',s=10,color=colors1[0])\n",
    "plt.plot(xvals,targets_testing[order],label='Targets',color=colors1[2])\n",
    "#plt.fill_between(xvals,targets_testing[order].flatten()-np.sqrt(var_performance),targets_testing[order].flatten()+np.sqrt(var_performance),alpha=0.5,color=colors1[2])\n",
    "plt.xlabel('Index')\n",
    "plt.ylabel('Matthews Coefficient')\n",
    "plt.legend()\n",
    "plt.show()"
   ]
  },
  {
   "cell_type": "code",
   "execution_count": null,
   "metadata": {},
   "outputs": [],
   "source": []
  }
 ],
 "metadata": {
  "kernelspec": {
   "display_name": "Python 3",
   "language": "python",
   "name": "python3"
  },
  "language_info": {
   "codemirror_mode": {
    "name": "ipython",
    "version": 3
   },
   "file_extension": ".py",
   "mimetype": "text/x-python",
   "name": "python",
   "nbconvert_exporter": "python",
   "pygments_lexer": "ipython3",
   "version": "3.10.10"
  }
 },
 "nbformat": 4,
 "nbformat_minor": 2
}
