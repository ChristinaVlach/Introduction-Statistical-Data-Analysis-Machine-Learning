{
 "cells": [
  {
   "cell_type": "markdown",
   "metadata": {},
   "source": [
    "# Example: Find a model for Proteins"
   ]
  },
  {
   "cell_type": "code",
   "execution_count": 1,
   "metadata": {},
   "outputs": [],
   "source": [
    "import json\n",
    "import numpy as np\n",
    "import torch\n",
    "import torch.nn as nn\n",
    "import torch.optim as optim\n",
    "from torch.optim.lr_scheduler import StepLR\n",
    "from torch.utils.data import TensorDataset, DataLoader\n",
    "\n",
    "import matplotlib.colors as mcolors\n",
    "import matplotlib.pyplot as plt\n",
    "\n",
    "# Define color-blind-friendly palette\n",
    "hex1 = ['#648FFF', '#785EF0', '#DC267F', '#FE6100', '#FFB000']\n",
    "hex1_inverted = hex1[::-1]\n",
    "colors1=[mcolors.to_rgb(i) for i in hex1]"
   ]
  },
  {
   "cell_type": "markdown",
   "metadata": {},
   "source": [
    "## Load protein data from PDB dataset"
   ]
  },
  {
   "cell_type": "code",
   "execution_count": 2,
   "metadata": {},
   "outputs": [
    {
     "ename": "JSONDecodeError",
     "evalue": "Expecting value: line 1 column 9736 (char 9735)",
     "output_type": "error",
     "traceback": [
      "\u001b[0;31m---------------------------------------------------------------------------\u001b[0m",
      "\u001b[0;31mJSONDecodeError\u001b[0m                           Traceback (most recent call last)",
      "Cell \u001b[0;32mIn[2], line 4\u001b[0m\n\u001b[1;32m      2\u001b[0m \u001b[38;5;28;01mwith\u001b[39;00m \u001b[38;5;28mopen\u001b[39m(\u001b[38;5;124m'\u001b[39m\u001b[38;5;124m../../../supplemental_material/pdb/dataset2.txt\u001b[39m\u001b[38;5;124m'\u001b[39m, \u001b[38;5;124m'\u001b[39m\u001b[38;5;124mr\u001b[39m\u001b[38;5;124m'\u001b[39m) \u001b[38;5;28;01mas\u001b[39;00m file:\n\u001b[1;32m      3\u001b[0m     \u001b[38;5;28;01mfor\u001b[39;00m line \u001b[38;5;129;01min\u001b[39;00m file:\n\u001b[0;32m----> 4\u001b[0m         jsons\u001b[38;5;241m.\u001b[39mappend(\u001b[43mjson\u001b[49m\u001b[38;5;241;43m.\u001b[39;49m\u001b[43mloads\u001b[49m\u001b[43m(\u001b[49m\u001b[43mline\u001b[49m\u001b[43m)\u001b[49m)\n",
      "File \u001b[0;32m~/miniconda/lib/python3.10/json/__init__.py:346\u001b[0m, in \u001b[0;36mloads\u001b[0;34m(s, cls, object_hook, parse_float, parse_int, parse_constant, object_pairs_hook, **kw)\u001b[0m\n\u001b[1;32m    341\u001b[0m     s \u001b[38;5;241m=\u001b[39m s\u001b[38;5;241m.\u001b[39mdecode(detect_encoding(s), \u001b[38;5;124m'\u001b[39m\u001b[38;5;124msurrogatepass\u001b[39m\u001b[38;5;124m'\u001b[39m)\n\u001b[1;32m    343\u001b[0m \u001b[38;5;28;01mif\u001b[39;00m (\u001b[38;5;28mcls\u001b[39m \u001b[38;5;129;01mis\u001b[39;00m \u001b[38;5;28;01mNone\u001b[39;00m \u001b[38;5;129;01mand\u001b[39;00m object_hook \u001b[38;5;129;01mis\u001b[39;00m \u001b[38;5;28;01mNone\u001b[39;00m \u001b[38;5;129;01mand\u001b[39;00m\n\u001b[1;32m    344\u001b[0m         parse_int \u001b[38;5;129;01mis\u001b[39;00m \u001b[38;5;28;01mNone\u001b[39;00m \u001b[38;5;129;01mand\u001b[39;00m parse_float \u001b[38;5;129;01mis\u001b[39;00m \u001b[38;5;28;01mNone\u001b[39;00m \u001b[38;5;129;01mand\u001b[39;00m\n\u001b[1;32m    345\u001b[0m         parse_constant \u001b[38;5;129;01mis\u001b[39;00m \u001b[38;5;28;01mNone\u001b[39;00m \u001b[38;5;129;01mand\u001b[39;00m object_pairs_hook \u001b[38;5;129;01mis\u001b[39;00m \u001b[38;5;28;01mNone\u001b[39;00m \u001b[38;5;129;01mand\u001b[39;00m \u001b[38;5;129;01mnot\u001b[39;00m kw):\n\u001b[0;32m--> 346\u001b[0m     \u001b[38;5;28;01mreturn\u001b[39;00m \u001b[43m_default_decoder\u001b[49m\u001b[38;5;241;43m.\u001b[39;49m\u001b[43mdecode\u001b[49m\u001b[43m(\u001b[49m\u001b[43ms\u001b[49m\u001b[43m)\u001b[49m\n\u001b[1;32m    347\u001b[0m \u001b[38;5;28;01mif\u001b[39;00m \u001b[38;5;28mcls\u001b[39m \u001b[38;5;129;01mis\u001b[39;00m \u001b[38;5;28;01mNone\u001b[39;00m:\n\u001b[1;32m    348\u001b[0m     \u001b[38;5;28mcls\u001b[39m \u001b[38;5;241m=\u001b[39m JSONDecoder\n",
      "File \u001b[0;32m~/miniconda/lib/python3.10/json/decoder.py:337\u001b[0m, in \u001b[0;36mJSONDecoder.decode\u001b[0;34m(self, s, _w)\u001b[0m\n\u001b[1;32m    332\u001b[0m \u001b[38;5;28;01mdef\u001b[39;00m \u001b[38;5;21mdecode\u001b[39m(\u001b[38;5;28mself\u001b[39m, s, _w\u001b[38;5;241m=\u001b[39mWHITESPACE\u001b[38;5;241m.\u001b[39mmatch):\n\u001b[1;32m    333\u001b[0m \u001b[38;5;250m    \u001b[39m\u001b[38;5;124;03m\"\"\"Return the Python representation of ``s`` (a ``str`` instance\u001b[39;00m\n\u001b[1;32m    334\u001b[0m \u001b[38;5;124;03m    containing a JSON document).\u001b[39;00m\n\u001b[1;32m    335\u001b[0m \n\u001b[1;32m    336\u001b[0m \u001b[38;5;124;03m    \"\"\"\u001b[39;00m\n\u001b[0;32m--> 337\u001b[0m     obj, end \u001b[38;5;241m=\u001b[39m \u001b[38;5;28;43mself\u001b[39;49m\u001b[38;5;241;43m.\u001b[39;49m\u001b[43mraw_decode\u001b[49m\u001b[43m(\u001b[49m\u001b[43ms\u001b[49m\u001b[43m,\u001b[49m\u001b[43m \u001b[49m\u001b[43midx\u001b[49m\u001b[38;5;241;43m=\u001b[39;49m\u001b[43m_w\u001b[49m\u001b[43m(\u001b[49m\u001b[43ms\u001b[49m\u001b[43m,\u001b[49m\u001b[43m \u001b[49m\u001b[38;5;241;43m0\u001b[39;49m\u001b[43m)\u001b[49m\u001b[38;5;241;43m.\u001b[39;49m\u001b[43mend\u001b[49m\u001b[43m(\u001b[49m\u001b[43m)\u001b[49m\u001b[43m)\u001b[49m\n\u001b[1;32m    338\u001b[0m     end \u001b[38;5;241m=\u001b[39m _w(s, end)\u001b[38;5;241m.\u001b[39mend()\n\u001b[1;32m    339\u001b[0m     \u001b[38;5;28;01mif\u001b[39;00m end \u001b[38;5;241m!=\u001b[39m \u001b[38;5;28mlen\u001b[39m(s):\n",
      "File \u001b[0;32m~/miniconda/lib/python3.10/json/decoder.py:355\u001b[0m, in \u001b[0;36mJSONDecoder.raw_decode\u001b[0;34m(self, s, idx)\u001b[0m\n\u001b[1;32m    353\u001b[0m     obj, end \u001b[38;5;241m=\u001b[39m \u001b[38;5;28mself\u001b[39m\u001b[38;5;241m.\u001b[39mscan_once(s, idx)\n\u001b[1;32m    354\u001b[0m \u001b[38;5;28;01mexcept\u001b[39;00m \u001b[38;5;167;01mStopIteration\u001b[39;00m \u001b[38;5;28;01mas\u001b[39;00m err:\n\u001b[0;32m--> 355\u001b[0m     \u001b[38;5;28;01mraise\u001b[39;00m JSONDecodeError(\u001b[38;5;124m\"\u001b[39m\u001b[38;5;124mExpecting value\u001b[39m\u001b[38;5;124m\"\u001b[39m, s, err\u001b[38;5;241m.\u001b[39mvalue) \u001b[38;5;28;01mfrom\u001b[39;00m \u001b[38;5;28;01mNone\u001b[39;00m\n\u001b[1;32m    356\u001b[0m \u001b[38;5;28;01mreturn\u001b[39;00m obj, end\n",
      "\u001b[0;31mJSONDecodeError\u001b[0m: Expecting value: line 1 column 9736 (char 9735)"
     ]
    }
   ],
   "source": [
    "jsons = []\n",
    "with open('../../../supplemental_material/pdb/dataset2.txt', 'r') as file:\n",
    "    for line in file:\n",
    "        jsons.append(json.loads(line))"
   ]
  },
  {
   "cell_type": "code",
   "execution_count": null,
   "metadata": {},
   "outputs": [],
   "source": [
    "data = jsons[0]\n",
    "print(str(len(data)) + \" entries\")"
   ]
  },
  {
   "cell_type": "markdown",
   "metadata": {},
   "source": [
    "## Generate train and test datasets from entries of the proteins"
   ]
  },
  {
   "cell_type": "code",
   "execution_count": null,
   "metadata": {},
   "outputs": [],
   "source": [
    "all_inputs = np.zeros((len(data), 7))\n",
    "all_targets = np.zeros((len(data), 1))\n",
    "indices = []\n",
    "for i in range(len(data)):\n",
    "    entry = data[i]['entry']\n",
    "    if 'cell' in entry and 'exptl_crystal' in entry and len(entry['cell'].keys()) >= 7 and len(entry['exptl_crystal'][0].keys()) >= 3:\n",
    "        all_inputs[i, 0] = entry['cell']['angle_alpha']\n",
    "        all_inputs[i, 1] = entry['cell']['angle_beta']\n",
    "        all_inputs[i, 2] = entry['cell']['angle_gamma']\n",
    "        all_inputs[i, 3] = entry['cell']['length_a']\n",
    "        all_inputs[i, 4] = entry['cell']['length_b']\n",
    "        all_inputs[i, 5] = entry['cell']['length_c']\n",
    "        all_targets[i] = entry['exptl_crystal'][0]['density_matthews']\n",
    "        all_inputs[i, 6] = entry['exptl_crystal'][0]['density_percent_sol']\n",
    "        indices.append(i)\n",
    "    # else:\n",
    "    #     print('skipped %d' % i)\n",
    "all_inputs = all_inputs[indices]\n",
    "all_targets = all_targets[indices]\n",
    "\n",
    "print('Number of entries: %d' % len(all_inputs))"
   ]
  },
  {
   "cell_type": "code",
   "execution_count": 5,
   "metadata": {},
   "outputs": [],
   "source": [
    "# Set random seed for reproducibility\n",
    "np.random.seed(42)\n",
    "\n",
    "# Shuffle the indices\n",
    "indices = np.random.permutation(len(all_inputs))\n",
    "\n",
    "# Split the indices for training, testing, and validation sets\n",
    "train_indices = indices[:3 * len(all_inputs) // 4]\n",
    "test_indices = indices[3 * len(all_inputs) // 4:]\n",
    "\n",
    "# Create the training, testing, and validation sets\n",
    "inputs_training = all_inputs[train_indices]\n",
    "targets_training = all_targets[train_indices]\n",
    "inputs_testing = all_inputs[test_indices]\n",
    "targets_testing = all_targets[test_indices]"
   ]
  },
  {
   "cell_type": "code",
   "execution_count": 6,
   "metadata": {},
   "outputs": [],
   "source": [
    "input_tensor = torch.tensor(inputs_training, dtype=torch.float32)\n",
    "target_tensor = torch.tensor(targets_training, dtype=torch.float32)"
   ]
  },
  {
   "cell_type": "markdown",
   "metadata": {},
   "source": [
    "## Define Model"
   ]
  },
  {
   "cell_type": "code",
   "execution_count": 7,
   "metadata": {},
   "outputs": [],
   "source": [
    "# Define the model architecture using a sequential container\n",
    "\n",
    "# define input size, hidden layer size, output size \n",
    "D_i, D_k, D_o = 7, 50, 1\n",
    "\n",
    "# The model consists of:\n",
    "model = nn.Sequential(\n",
    "    nn.Linear(D_i, D_k),\n",
    "    nn.ReLU(),\n",
    "    nn.Linear(D_k, D_k),\n",
    "    # nn.ReLU(),\n",
    "    # nn.Linear(D_k, D_k),\n",
    "    nn.ReLU(),\n",
    "    nn.Linear(D_k, D_k),\n",
    "    nn.ReLU(),\n",
    "    nn.Linear(D_k, D_k),\n",
    "    nn.ReLU(),\n",
    "    nn.Linear(D_k, D_k),\n",
    "    nn.ReLU(),\n",
    "    nn.Linear(D_k, D_o),\n",
    ")"
   ]
  },
  {
   "cell_type": "code",
   "execution_count": 8,
   "metadata": {},
   "outputs": [],
   "source": [
    "# Define the loss function and optimizer\n",
    "# Mean Squared Error (MSE) is used as the loss function\n",
    "criterion = nn.MSELoss()"
   ]
  },
  {
   "cell_type": "code",
   "execution_count": 9,
   "metadata": {},
   "outputs": [],
   "source": [
    "# Adam optimizer is used with weight decay (L2 regularization) to prevent overfitting\n",
    "optimizer = optim.Adam(model.parameters(), weight_decay=1e-4)\n",
    "# object that decreases learning rate by half every N epochs \n",
    "scheduler = StepLR(optimizer, step_size=50, gamma=0.5)"
   ]
  },
  {
   "cell_type": "code",
   "execution_count": null,
   "metadata": {},
   "outputs": [],
   "source": [
    "\n",
    "# Train the model\n",
    "num_epochs = 1000  # Number of epochs to train the model\n",
    "losses = []  # List to store the loss value for each epoch\n",
    "# load data\n",
    "data_loader = DataLoader(TensorDataset(input_tensor,target_tensor), batch_size=32)\n",
    "# Iterate over the epochs\n",
    "for epoch in range(num_epochs):\n",
    "    epoch_loss = 0.0  # Initialize the loss value for this epoch\n",
    "    # Iterate over the training data in batches\n",
    "    for i, data in enumerate(data_loader):\n",
    "        # Get the inputs and targets from the data loader\n",
    "        inputs, targets = data\n",
    "        # Clear the gradients of all optimized tensors\n",
    "        optimizer.zero_grad()  \n",
    "        \n",
    "        # Forward pass: compute the model output\n",
    "        outputs = model(inputs)\n",
    "        # Compute the loss between the model output and the actual targets\n",
    "        loss = criterion(outputs, targets)\n",
    "        \n",
    "        # Backward pass and optimization\n",
    "        loss.backward()        # Compute the gradient of the loss with respect to model parameters\n",
    "        optimizer.step()       # Update the model parameters based on the computed gradients\n",
    "        \n",
    "        # Store the loss value for this epoch\n",
    "        epoch_loss += loss.item()\n",
    "        losses.append(loss.item())  # Store the loss value for this epoch\n",
    "    print(f'Epoch {epoch:5d}, loss {epoch_loss:.3f}')\n",
    "    # tell scheduler to consider updating learning rate \n",
    "    scheduler.step()"
   ]
  },
  {
   "cell_type": "code",
   "execution_count": null,
   "metadata": {},
   "outputs": [],
   "source": [
    "plt.plot(losses)\n",
    "plt.xscale('log')\n",
    "#plt.yscale('log')\n",
    "plt.xlabel('Iteration')\n",
    "plt.ylabel('Loss')\n",
    "plt.show()"
   ]
  },
  {
   "cell_type": "code",
   "execution_count": 12,
   "metadata": {},
   "outputs": [],
   "source": [
    "predictions_test = model(torch.tensor(inputs_testing, dtype=torch.float32)).detach().numpy()"
   ]
  },
  {
   "cell_type": "code",
   "execution_count": null,
   "metadata": {},
   "outputs": [],
   "source": [
    "plt.plot(100*(predictions_test/targets_testing-1))\n",
    "plt.xlabel('Index')\n",
    "plt.ylabel('Percent Error')\n",
    "plt.ylim([-25,25])\n",
    "plt.show()"
   ]
  },
  {
   "cell_type": "code",
   "execution_count": null,
   "metadata": {},
   "outputs": [],
   "source": [
    "var_performance = np.sum((predictions_test - targets_testing)**2)\n",
    "print('Variance of performance: %.3f' % var_performance)"
   ]
  },
  {
   "cell_type": "code",
   "execution_count": null,
   "metadata": {},
   "outputs": [],
   "source": [
    "order = np.argsort(targets_testing.flatten())\n",
    "xvals = np.arange(len(targets_testing))\n",
    "plt.scatter(xvals,predictions_test[order],label='Predictions',s=10,color=colors1[0])\n",
    "plt.scatter(xvals,targets_testing[order],label='Targets',s=10,color=colors1[2])\n",
    "plt.xlabel('Index')\n",
    "plt.ylabel('Matthews Coefficient')\n",
    "plt.legend()\n",
    "plt.show()"
   ]
  },
  {
   "cell_type": "code",
   "execution_count": null,
   "metadata": {},
   "outputs": [],
   "source": []
  }
 ],
 "metadata": {
  "kernelspec": {
   "display_name": "Python 3",
   "language": "python",
   "name": "python3"
  },
  "language_info": {
   "codemirror_mode": {
    "name": "ipython",
    "version": 3
   },
   "file_extension": ".py",
   "mimetype": "text/x-python",
   "name": "python",
   "nbconvert_exporter": "python",
   "pygments_lexer": "ipython3",
   "version": "3.10.10"
  }
 },
 "nbformat": 4,
 "nbformat_minor": 2
}
