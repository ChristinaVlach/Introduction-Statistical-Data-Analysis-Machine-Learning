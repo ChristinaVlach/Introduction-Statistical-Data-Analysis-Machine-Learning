{
 "cells": [
  {
   "cell_type": "markdown",
   "metadata": {},
   "source": [
    "# FEATURE EXTRACTION ANALYSIS"
   ]
  },
  {
   "cell_type": "markdown",
   "metadata": {},
   "source": [
    "\n",
    "The goal of feature extraction is to transform raw data into a reduced set of informative characteristics, or \"features,\" that capture essential information from the data, often in a lower-dimensional space."
   ]
  },
  {
   "cell_type": "markdown",
   "metadata": {},
   "source": [
    "Given a set of input data points $X = {x_0, x_1, ..., x_n}$, where each $x \\in \\mathbb{R}^D$, the objective is to define a function $f(x, \\theta)$ that maps each input $x$ to a new representation \\$z = f(x, \\theta)$, with $z \\in \\mathbb{R}^d$. Typically, we aim for $d \\ll D$, allowing for a more compact and efficient representation of the data. Here, $\\theta$ represents the parameters of the model optimized to capture essential features in a reduced dimension."
   ]
  },
  {
   "cell_type": "markdown",
   "metadata": {},
   "source": [
    "## Example 1:  MNIST Digits"
   ]
  },
  {
   "cell_type": "markdown",
   "metadata": {},
   "source": [
    "### Loading the MNIST dataset"
   ]
  },
  {
   "cell_type": "code",
   "execution_count": 1,
   "metadata": {},
   "outputs": [],
   "source": [
    "import gzip\n",
    "import os\n",
    "import numpy as np\n",
    "import struct\n",
    "\n",
    "\n",
    "def load_mnist(path, kind='train'):\n",
    "    \"\"\"Load MNIST data from `path`\"\"\"\n",
    "    labels_path = os.path.join(path, f'{kind}-labels-idx1-ubyte.gz')\n",
    "    images_path = os.path.join(path, f'{kind}-images-idx3-ubyte.gz')\n",
    "\n",
    "    with gzip.open(labels_path, 'rb') as lbpath:\n",
    "        _, _ = struct.unpack('>II', lbpath.read(8))\n",
    "        labels = np.frombuffer(lbpath.read(), dtype=np.uint8)\n",
    "\n",
    "    with gzip.open(images_path, 'rb') as imgpath:\n",
    "        _, num, rows, cols = struct.unpack('>IIII', imgpath.read(16))\n",
    "        images = np.frombuffer(imgpath.read(), dtype=np.uint8).reshape(num, rows*cols)\n",
    "\n",
    "    return images, labels"
   ]
  },
  {
   "cell_type": "code",
   "execution_count": null,
   "metadata": {},
   "outputs": [],
   "source": [
    "# Load the dataset\n",
    "mnist_path = '../supplemental_material/MNIST' \n",
    "X_train, y_train = load_mnist(mnist_path, kind='train')\n",
    "X_test, y_test = load_mnist(mnist_path, kind='t10k')\n",
    "\n",
    "print(f\"Training set shape: {X_train.shape}, Training labels shape: {y_train.shape}\")\n",
    "print(f\"Test set shape: {X_test.shape}, Test labels shape: {y_test.shape}\")"
   ]
  },
  {
   "cell_type": "markdown",
   "metadata": {},
   "source": [
    "### MLP as feature extractor"
   ]
  },
  {
   "cell_type": "code",
   "execution_count": 3,
   "metadata": {},
   "outputs": [],
   "source": [
    "import torch\n",
    "import torch.nn as nn\n",
    "\n",
    "class MLP(nn.Module):\n",
    "    def __init__(self, input_size=784, hidden_size=128, output_size=64):\n",
    "        super(MLP, self).__init__()\n",
    "        self.fc1 = nn.Linear(input_size, hidden_size)\n",
    "        self.relu = nn.ReLU()\n",
    "        self.fc2 = nn.Linear(hidden_size, output_size)\n",
    "        self.sigmoid = nn.Sigmoid()\n",
    "\n",
    "    def forward(self, x, return_features=False):\n",
    "        out = self.fc1(x)\n",
    "        out = self.relu(out)\n",
    "        features = self.fc2(out)\n",
    "        if return_features:\n",
    "            return features  # Return features before final activation\n",
    "        out = self.sigmoid(features)\n",
    "        return out"
   ]
  },
  {
   "cell_type": "code",
   "execution_count": 4,
   "metadata": {},
   "outputs": [],
   "source": [
    "# Convert the data to PyTorch tensors and normalize it\n",
    "X_train_tensor = torch.tensor(X_train, dtype=torch.float32) / 255.0  \n",
    "X_test_tensor = torch.tensor(X_test, dtype=torch.float32) / 255.0"
   ]
  },
  {
   "cell_type": "code",
   "execution_count": null,
   "metadata": {},
   "outputs": [],
   "source": [
    "model = MLP()\n",
    "with torch.no_grad():\n",
    "    test_features = model(X_test_tensor, return_features=True)\n",
    "\n",
    "print(f\"Extracted feature shape for training set: {test_features.shape}\")"
   ]
  },
  {
   "cell_type": "code",
   "execution_count": 8,
   "metadata": {},
   "outputs": [],
   "source": [
    "import seaborn as sns\n",
    "import matplotlib.pyplot as plt\n",
    "\n",
    "\n",
    "def plot_features(features, labels):\n",
    "    \"\"\"\n",
    "    Reduces precomputed features to 2D using UMAP and plots them with colors by label.\n",
    "\n",
    "    Parameters:\n",
    "        features (np.array): Precomputed feature vectors.\n",
    "        labels (np.array): Labels for the data points to color the plot.\n",
    "    \"\"\"\n",
    "    plt.figure(figsize=(10, 8))\n",
    "    sns.scatterplot(\n",
    "        x=features[:, 0], \n",
    "        y=features[:, 1], \n",
    "        hue=labels, \n",
    "        palette=\"tab10\", \n",
    "        s=30, \n",
    "        alpha=0.7, \n",
    "        edgecolor='k', \n",
    "        legend=\"full\"\n",
    "    )\n",
    "    plt.title(\"2D Visualization of Features using UMAP\")\n",
    "    plt.xlabel(\"UMAP Component 1\")\n",
    "    plt.ylabel(\"UMAP Component 2\")\n",
    "    plt.legend(title=\"Label\", loc=\"best\")\n",
    "    plt.show()"
   ]
  },
  {
   "cell_type": "code",
   "execution_count": null,
   "metadata": {},
   "outputs": [],
   "source": [
    "import umap\n",
    "\n",
    "reducer = umap.UMAP(n_neighbors=15, min_dist=0.1, n_components=2, n_jobs=1, random_state=42)\n",
    "umap_embedding = reducer.fit_transform(test_features)"
   ]
  },
  {
   "cell_type": "code",
   "execution_count": null,
   "metadata": {},
   "outputs": [],
   "source": [
    "plot_features(umap_embedding, y_test)"
   ]
  },
  {
   "cell_type": "code",
   "execution_count": null,
   "metadata": {},
   "outputs": [],
   "source": [
    "# load the model weights\n",
    "weights = os.path.join(\"..\",\"classification\",\"data\", \"weights\", \"MLP\",\"MNIST.pth\")\n",
    "print(f\"Loading model weights from {weights}\")\n",
    "model.load_state_dict(torch.load(weights))\n",
    "model.eval()\n",
    "with torch.no_grad():\n",
    "    test_features = model(X_test_tensor, return_features=True)\n",
    "\n",
    "umap_embedding = reducer.fit_transform(test_features)\n",
    "plot_features(umap_embedding, y_test)"
   ]
  },
  {
   "cell_type": "markdown",
   "metadata": {},
   "source": [
    "### LeNet as feature extractor"
   ]
  },
  {
   "cell_type": "code",
   "execution_count": 63,
   "metadata": {},
   "outputs": [],
   "source": [
    "class LeNet5(nn.Module):\n",
    "    def __init__(self):\n",
    "        super(LeNet5, self).__init__()\n",
    "        self.conv1 = nn.Conv2d(1, 6, kernel_size=5, stride=1, padding=2)\n",
    "        self.conv2 = nn.Conv2d(6, 16, kernel_size=5, stride=1)\n",
    "        self.fc1 = nn.Linear(16 * 5 * 5, 120)\n",
    "        self.fc2 = nn.Linear(120, 84)\n",
    "        self.fc3 = nn.Linear(84, 2)  # Output 2 classes: circle and no-circle\n",
    "\n",
    "    def forward(self, x, return_features=False):\n",
    "        x = torch.relu(self.conv1(x))\n",
    "        x = torch.max_pool2d(x, kernel_size=2, stride=2)\n",
    "        x = torch.relu(self.conv2(x))\n",
    "        x = torch.max_pool2d(x, kernel_size=2, stride=2)\n",
    "        x = x.view(-1, 16 * 5 * 5)\n",
    "        x = torch.relu(self.fc1(x))\n",
    "        features = torch.relu(self.fc2(x))\n",
    "        if return_features:\n",
    "            return features  # Return features before the final layer\n",
    "        x = self.fc3(features)\n",
    "        return x"
   ]
  },
  {
   "cell_type": "code",
   "execution_count": null,
   "metadata": {},
   "outputs": [],
   "source": [
    "model = LeNet5()\n",
    "weights = os.path.join(\"..\", \"data\", \"weights\", \"Lenet5\", \"MNIST.pth\")\n",
    "model.load_state_dict(torch.load(weights))\n",
    "model.eval()\n",
    "with torch.no_grad():\n",
    "    test_features = model(X_test_tensor, return_features=True)\n",
    "\n",
    "print(f\"Extracted feature shape for training set: {test_features.shape}\")"
   ]
  },
  {
   "cell_type": "code",
   "execution_count": 43,
   "metadata": {},
   "outputs": [],
   "source": [
    "import torch\n",
    "import torch.nn as nn\n",
    "import torch.optim as optim\n",
    "from torchvision import datasets, transforms\n",
    "import umap\n",
    "import matplotlib.pyplot as plt\n",
    "from torch.utils.data import Subset, DataLoader\n",
    "\n",
    "# Step 1: Load MNIST Dataset\n",
    "transform = transforms.ToTensor()\n",
    "train_data = datasets.MNIST(root='./data', train=True, download=True, transform=transform)\n",
    "test_data = datasets.MNIST(root='./data', train=False, download=True, transform=transform)\n",
    "train_dataset = Subset(train_data, np.random.choice(len(train_data), int(0.5 * len(train_data)), replace=False))\n",
    "test_dataset = Subset(test_data, np.random.choice(len(test_data), int(0.5 * len(test_data)), replace=False))\n",
    "\n",
    "train_loader = DataLoader(dataset=train_dataset, batch_size=64, shuffle=True)\n",
    "test_loader = DataLoader(dataset=test_dataset, batch_size=5000, shuffle=False)\n",
    "\n",
    "# Step 2: Define a Simple MLP\n",
    "class MLP(nn.Module):\n",
    "    def __init__(self):\n",
    "        super(MLP, self).__init__()\n",
    "        self.fc1 = nn.Linear(28*28, 256)  # First hidden layer\n",
    "        self.fc2 = nn.Linear(256, 64)     # Second hidden layer\n",
    "        self.fc3 = nn.Linear(64, 10)      # Output layer (for classification)\n",
    "    \n",
    "    def forward(self, x):\n",
    "        x = x.view(-1, 28*28)  # Flatten the image\n",
    "        x = torch.relu(self.fc1(x))  # Hidden layer 1\n",
    "        hidden_features = torch.relu(self.fc2(x))  # Hidden layer 2 (features)\n",
    "        output = self.fc3(hidden_features)  # Output layer\n",
    "        return hidden_features, output  # Return both the hidden features and final output\n",
    "\n",
    "# Step 3: Initialize the MLP\n",
    "model = MLP()\n",
    "\n",
    "# Step 4: Extract Features Before Training (Untrained Network)\n",
    "model.eval()  # Set the model to evaluation mode\n",
    "with torch.no_grad():\n",
    "    for images, labels in test_loader:\n",
    "        hidden_features_before, _ = model(images)  # Extract features from second hidden layer before training\n",
    "\n",
    "# Convert hidden features and labels to numpy for UMAP\n",
    "hidden_features_before_np = hidden_features_before.numpy()\n",
    "labels_np = labels.numpy()\n",
    "\n",
    "# Step 5: Apply UMAP to the untrained features\n",
    "reducer = umap.UMAP(n_neighbors=15, min_dist=0.1, n_components=2, n_jobs=1, random_state=42)\n",
    "umap_embedding_before = reducer.fit_transform(hidden_features_before_np)\n",
    "\n",
    "# Step 6: Train the MLP\n",
    "criterion = nn.CrossEntropyLoss()\n",
    "optimizer = optim.Adam(model.parameters(), lr=0.001)\n",
    "\n",
    "epochs = 5\n",
    "for epoch in range(epochs):\n",
    "    model.train()  # Set the model to training mode\n",
    "    for images, labels in train_loader:\n",
    "        _, outputs = model(images)  # Forward pass (we don't need hidden features during training)\n",
    "        loss = criterion(outputs, labels)\n",
    "        optimizer.zero_grad()\n",
    "        loss.backward()\n",
    "        optimizer.step()\n",
    "\n",
    "test_images, test_labels = [], []\n",
    "# Step 7: Extract Features After Training (Trained Network)\n",
    "model.eval()  # Set the model to evaluation mode\n",
    "with torch.no_grad():\n",
    "    for images, labels in test_loader:\n",
    "        hidden_features_after, _ = model(images)  # Extract features from second hidden layer after training\n",
    "        test_images.append(images)\n",
    "        test_labels.append(labels)\n",
    "\n",
    "# Flatten the list of batches into a single list of images and labels\n",
    "test_images = torch.cat(test_images, dim=0).numpy()  # Convert to numpy array for plotting\n",
    "test_labels = torch.cat(test_labels, dim=0).numpy()  # Convert to numpy array for labels\n",
    "\n",
    "# Convert hidden features after training to numpy\n",
    "hidden_features_after_np = hidden_features_after.numpy()\n",
    "\n",
    "# Step 8: Apply UMAP to the trained features\n",
    "umap_embedding_after = reducer.fit_transform(hidden_features_after_np)\n"
   ]
  },
  {
   "cell_type": "code",
   "execution_count": null,
   "metadata": {},
   "outputs": [],
   "source": [
    "import matplotlib.patches as mpatches\n",
    "import numpy as np\n",
    "import matplotlib.pyplot as plt\n",
    "\n",
    "# Define the number of unique labels (digits) and the colormap\n",
    "unique_labels = np.unique(labels_np)\n",
    "cmap = plt.get_cmap('tab10')  # Discrete colormap for 10 categories\n",
    "\n",
    "# Create a figure\n",
    "plt.figure(figsize=(14, 6))\n",
    "\n",
    "# Before Training\n",
    "plt.subplot(1, 2, 1)\n",
    "scatter_before = plt.scatter(umap_embedding_before[:, 0], umap_embedding_before[:, 1], c=labels_np, cmap=cmap, s=5)\n",
    "plt.title('UMAP Projection of MLP Features (Before Training)', fontsize=12)\n",
    "\n",
    "# After Training\n",
    "plt.subplot(1, 2, 2)\n",
    "scatter_after = plt.scatter(umap_embedding_after[:, 0], umap_embedding_after[:, 1], c=labels_np, cmap=cmap, s=5)\n",
    "plt.title('UMAP Projection of MLP Features (After Training)', fontsize=12)\n",
    "\n",
    "# Create a legend manually and position it outside the plot\n",
    "handles = [mpatches.Patch(color=cmap(i / len(unique_labels)), label=f'Digit {i}') for i in unique_labels]\n",
    "\n",
    "# Position the legend outside the plot to the right\n",
    "plt.legend(handles=handles, title=\"Digits\", loc='center left', bbox_to_anchor=(1, 0.5), fontsize=10)\n",
    "\n",
    "# Adjust layout and show the plot\n",
    "plt.tight_layout(rect=[0, 0, 0.85, 1])  # Make space for the legend\n",
    "plt.show()\n"
   ]
  },
  {
   "cell_type": "code",
   "execution_count": 45,
   "metadata": {},
   "outputs": [],
   "source": [
    "import matplotlib.pyplot as plt\n",
    "import numpy as np\n",
    "from sklearn.neighbors import NearestNeighbors\n",
    "\n",
    "def plot_misclustered_images(cluster_digit, umap_embedding, labels, test_images, num_images=10):\n",
    "    \"\"\"\n",
    "    Plots the `num_images` nearest images with labels different from the given cluster digit.\n",
    "\n",
    "    Parameters:\n",
    "    - cluster_digit (int): The digit corresponding to the cluster you want to inspect.\n",
    "    - umap_embedding (np.ndarray): The 2D UMAP projection of the data.\n",
    "    - labels (np.ndarray): The true labels for the data points.\n",
    "    - test_images (np.ndarray): The original test images corresponding to the data points.\n",
    "    - num_images (int): Number of misclustered images to plot. Default is 10.\n",
    "    \"\"\"\n",
    "    \n",
    "    # Step 1: Find the center of the cluster corresponding to the given digit\n",
    "    cluster_indices = np.where(labels == cluster_digit)[0]\n",
    "    cluster_center = np.mean(umap_embedding[cluster_indices], axis=0)\n",
    "\n",
    "    # Step 2: Find points with labels different from the given digit\n",
    "    diff_label_indices = np.where(labels != cluster_digit)[0]\n",
    "\n",
    "    # Step 3: Compute distances of points with different labels to the cluster center\n",
    "    distances_to_cluster = np.linalg.norm(umap_embedding[diff_label_indices] - cluster_center, axis=1)\n",
    "\n",
    "    # Step 4: Select the closest points with different labels\n",
    "    closest_indices = diff_label_indices[np.argsort(distances_to_cluster)[:num_images]]\n",
    "\n",
    "    # Step 5: Plot the corresponding images\n",
    "    plt.figure(figsize=(2*num_images, num_images))\n",
    "    for idx, mislabeled_index in enumerate(closest_indices):\n",
    "        plt.subplot(1, num_images, idx + 1)\n",
    "        plt.imshow(test_images[mislabeled_index].reshape(28, 28), cmap='gray')\n",
    "        plt.title(f\"True Label: {labels[mislabeled_index]}\")\n",
    "        plt.axis('off')\n",
    "\n",
    "    plt.tight_layout()\n",
    "    plt.show()\n"
   ]
  },
  {
   "cell_type": "code",
   "execution_count": null,
   "metadata": {},
   "outputs": [],
   "source": [
    "plot_misclustered_images(cluster_digit=1, umap_embedding=umap_embedding_after, labels=test_labels, test_images=test_images, num_images=4)"
   ]
  },
  {
   "cell_type": "code",
   "execution_count": null,
   "metadata": {},
   "outputs": [],
   "source": [
    "plot_misclustered_images(cluster_digit=0, umap_embedding=umap_embedding_after, labels=test_labels, test_images=test_images, num_images=4)"
   ]
  }
 ],
 "metadata": {
  "kernelspec": {
   "display_name": ".env",
   "language": "python",
   "name": "python3"
  },
  "language_info": {
   "codemirror_mode": {
    "name": "ipython",
    "version": 3
   },
   "file_extension": ".py",
   "mimetype": "text/x-python",
   "name": "python",
   "nbconvert_exporter": "python",
   "pygments_lexer": "ipython3",
   "version": "3.12.6"
  }
 },
 "nbformat": 4,
 "nbformat_minor": 2
}
