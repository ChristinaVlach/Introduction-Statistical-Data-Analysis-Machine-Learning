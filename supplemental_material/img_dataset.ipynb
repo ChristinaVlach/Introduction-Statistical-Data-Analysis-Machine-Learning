{
  "cells": [
    {
      "cell_type": "code",
      "execution_count": 1,
      "metadata": {
        "id": "btAw7vM7SswT"
      },
      "outputs": [],
      "source": [
        "import numpy as np\n",
        "import matplotlib.pyplot as plt\n",
        "import pandas as pd\n",
        "from PIL import Image\n",
        "from tqdm import tqdm\n",
        "import os\n",
        "from typing import Tuple, List"
      ]
    },
    {
      "cell_type": "code",
      "execution_count": 8,
      "metadata": {
        "id": "hWFbtItLeysl"
      },
      "outputs": [],
      "source": [
        "\n",
        "def generate_image(n_squares: int = 0, square_size: int = 0, path: str = '', name: str = 'test', save: bool = False) -> Tuple[int, List[int]]:\n",
        "    \"\"\"\n",
        "    Generate a 28x28 grayscale image with random white squares.\n",
        "    \n",
        "    Parameters:\n",
        "    n_squares (int): Number of squares to draw. Randomly chosen if set to 0.\n",
        "    square_size (int): Fixed size of squares. Randomly chosen for each square if set to 0.\n",
        "    path (str): Path to save the image if save is True.\n",
        "    name (str): Name of the saved image file (without extension).\n",
        "    save (bool): If True, saves the image to the specified path.\n",
        "    \n",
        "    Returns:\n",
        "    Tuple[int, List[int]]: The total number of squares and a list of each square's area.\n",
        "    \"\"\"\n",
        "    # Initialize a 28x28 black image (all zeros)\n",
        "    img = np.zeros((28, 28), dtype=np.uint8)\n",
        "\n",
        "    # If n_squares is 0, randomly determine the number of squares between 1 and 10\n",
        "    if n_squares == 0:\n",
        "        n_squares = np.random.randint(1, 11)\n",
        "\n",
        "    n = 0\n",
        "    squares_sizes = []\n",
        "\n",
        "    # Generate squares until reaching the desired number\n",
        "    while n != n_squares:\n",
        "        # Determine the size of each square\n",
        "        size = np.random.randint(3, 6) if square_size == 0 else square_size\n",
        "\n",
        "        # Randomly select a position within bounds\n",
        "        x = np.random.randint(0, 28 - size)\n",
        "        y = np.random.randint(0, 28 - size)\n",
        "\n",
        "        # Check boundaries and overlapping with previously drawn squares\n",
        "        if np.any(img[x-1:x+size+1, y-1:y+size+1]) or x == 0 or y == 0 or x + size == 28 or y + size == 28:\n",
        "            continue\n",
        "        else:\n",
        "            img[x:x+size, y:y+size] = 255\n",
        "            n += 1\n",
        "            squares_sizes.append(size**2)\n",
        "\n",
        "    # Save the image if specified\n",
        "    if save:\n",
        "        # Check if the specified path exists, create it if not\n",
        "        if path and not os.path.exists(path):\n",
        "            os.makedirs(path)\n",
        "        \n",
        "        pil_img = Image.fromarray(np.uint8(img), 'L')\n",
        "        pil_img.save(os.path.join(path, f\"{name}.png\"))\n",
        "\n",
        "    # Display the image if not saving\n",
        "    else:\n",
        "        fig = plt.figure(figsize=(4, 4), frameon=False)\n",
        "        axis = fig.add_subplot(1, 1, 1)\n",
        "        axis.imshow(img, cmap='viridis')\n",
        "        axis.axis('off')\n",
        "\n",
        "    # Ensure squares_sizes list has exactly 10 elements\n",
        "    squares_sizes.extend([0] * (10 - len(squares_sizes)))\n",
        "\n",
        "    return n_squares, squares_sizes"
      ]
    },
    {
      "cell_type": "code",
      "execution_count": 5,
      "metadata": {
        "id": "5p36iUHvVyUL"
      },
      "outputs": [],
      "source": [
        "def generate_big_square(x: int = 12, y: int = 12, size: int = 4, path: str = '', array: bool = False, name: str = 'test', save: bool = False) -> int or np.ndarray:\n",
        "    \"\"\"\n",
        "    Generate a 28x28 grayscale image with a white square of specified size and position.\n",
        "    \n",
        "    Parameters:\n",
        "    x (int): x-coordinate of the square's top-left corner.\n",
        "    y (int): y-coordinate of the square's top-left corner.\n",
        "    size (int): Length of the square's side.\n",
        "    path (str): Path to save the image if save is True.\n",
        "    array (bool): If True, returns the image array instead of displaying or saving it.\n",
        "    name (str): Name of the saved image file (without extension).\n",
        "    save (bool): If True, saves the image to the specified path.\n",
        "    \n",
        "    Returns:\n",
        "    int: Area of the square if not returning the array.\n",
        "    ndarray: Image array if array=True.\n",
        "    \"\"\"\n",
        "    # Initialize a 28x28 black image (all zeros)\n",
        "    img = np.zeros((28, 28), dtype=np.uint8)\n",
        "\n",
        "    # Check boundary conditions for square placement\n",
        "    if x == 0 or y == 0 or x + size == 28 or y + size == 28:\n",
        "        return 0  # Return 0 if the square would extend beyond image boundaries\n",
        "    else:\n",
        "        img[x:x + size, y:y + size] = 255  # Fill the square area with white pixels (255)\n",
        "\n",
        "    # If save option is selected\n",
        "    if save:\n",
        "        # Check if the specified path exists, create it if not\n",
        "        if path and not os.path.exists(path):\n",
        "            os.makedirs(path)\n",
        "        \n",
        "        # Save the image in grayscale mode\n",
        "        pil_img = Image.fromarray(img, 'L')\n",
        "        pil_img.save(os.path.join(path, f\"{name}.png\"))\n",
        "\n",
        "    # Display the image if not saving and array is False\n",
        "    elif not array:\n",
        "        fig = plt.figure(figsize=(4, 4), frameon=False)\n",
        "        axis = fig.add_subplot(1, 1, 1)\n",
        "        axis.imshow(img, cmap='viridis')\n",
        "        axis.axis('off')\n",
        "\n",
        "    # Return the array or square area based on the array flag\n",
        "    if array:\n",
        "        return img\n",
        "    else:\n",
        "        return size ** 2\n"
      ]
    },
    {
      "cell_type": "code",
      "execution_count": 9,
      "metadata": {
        "id": "tbmJ3ExSXEdh"
      },
      "outputs": [],
      "source": [
        "for i in range(2,28,3):\n",
        "  generate_big_square(x=14-i//2,y=14-i//2,size=i,name=i,path='../data/bigger_squares/',save=True)\n"
      ]
    },
    {
      "cell_type": "code",
      "execution_count": null,
      "metadata": {
        "colab": {
          "base_uri": "https://localhost:8080/",
          "height": 406
        },
        "id": "7s7m3ENVge_X",
        "outputId": "b1f80c16-ef61-4b1c-92a1-f893662daa4b"
      },
      "outputs": [],
      "source": [
        "imgs = []\n",
        "for i in range(2,28,3):\n",
        "  imgs.append(generate_big_square(x=14-i//2,y=14-i//2,size=i,array=True))\n",
        "\n",
        "fig, axs = plt.subplots(ncols=3,nrows=3,squeeze=False)\n",
        "i=0\n",
        "for r in range(3):\n",
        "  for c in range(3):\n",
        "    axs[r, c].imshow(imgs[i])\n",
        "    axs[r, c].set(xticklabels=[], yticklabels=[], xticks=[], yticks=[])\n",
        "    i += 1\n",
        "plt.show()"
      ]
    },
    {
      "cell_type": "code",
      "execution_count": 11,
      "metadata": {
        "id": "sq6Av0kQj_-R"
      },
      "outputs": [],
      "source": [
        "for x in range(2,26,6):\n",
        "  for y in range(2,26,6):\n",
        "    imgs.append(generate_big_square(x=x,y=y, size=5,name=x,path='../data/offset_squares/',save=True))"
      ]
    },
    {
      "cell_type": "code",
      "execution_count": null,
      "metadata": {
        "colab": {
          "base_uri": "https://localhost:8080/",
          "height": 406
        },
        "id": "y7Uom3BgYCMH",
        "outputId": "3e18276d-da82-4952-f838-168a5201ee6f"
      },
      "outputs": [],
      "source": [
        "imgs = []\n",
        "for x in range(2,26,6):\n",
        "  for y in range(2,26,6):\n",
        "    imgs.append(generate_big_square(x=x,y=y, size=5,array=True))\n",
        "\n",
        "fig, axs = plt.subplots(ncols=4,nrows=4,squeeze=False)\n",
        "i=0\n",
        "for r in range(4):\n",
        "  for c in range(4):\n",
        "    axs[r, c].imshow(imgs[i])\n",
        "    axs[r, c].set(xticklabels=[], yticklabels=[], xticks=[], yticks=[])\n",
        "    i += 1\n",
        "plt.show()"
      ]
    },
    {
      "cell_type": "code",
      "execution_count": 13,
      "metadata": {
        "id": "raEs1oxounUS"
      },
      "outputs": [],
      "source": [
        "def generate_image_with_shapes(n_objects: int = 0, width: int = 0, shape: str = 'square', path: str = '', name: str = 'test', save: bool = False) -> Tuple[int, List[int]]:\n",
        "    \"\"\"\n",
        "    Generate a 28x28 grayscale image with specified shapes (square, triangle, or shallow square).\n",
        "    \n",
        "    Parameters:\n",
        "    n_objects (int): Number of shapes to draw. Randomly chosen if set to 0.\n",
        "    width (int): Size of each shape. Randomly chosen for each shape if set to 0.\n",
        "    shape (str): Type of shape to draw ('square', 'triangle', or 'shallow_square').\n",
        "    path (str): Path to save the image if save is True.\n",
        "    name (str): Name of the saved image file (without extension).\n",
        "    save (bool): If True, saves the image to the specified path.\n",
        "    \n",
        "    Returns:\n",
        "    Tuple[int, List[int]]: The total number of shapes and a list of each shape's area.\n",
        "    \"\"\"\n",
        "    # Initialize a 28x28 black image (all zeros)\n",
        "    img = np.zeros((28, 28), dtype=np.uint8)\n",
        "\n",
        "    # Set number of shapes if unspecified\n",
        "    n_objects = n_objects if n_objects != 0 else np.random.randint(1, 11)\n",
        "\n",
        "    n = 0\n",
        "    squares_sizes = []\n",
        "\n",
        "    # Generate shapes until reaching the desired number\n",
        "    while n != n_objects:\n",
        "        # Set shape size if unspecified\n",
        "        size = np.random.randint(3, 6) if width == 0 else width\n",
        "\n",
        "        if shape == 'square':\n",
        "            x = np.random.randint(0, 28 - size)\n",
        "            y = np.random.randint(0, 28 - size)\n",
        "            # Check boundaries and overlap\n",
        "            if np.any(img[x-1:x+size+1, y-1:y+size+1]) or x == 0 or y == 0 or x + size == 28 or y + size == 28:\n",
        "                continue\n",
        "            else:\n",
        "                img[x:x+size, y:y+size] = 255\n",
        "                n += 1\n",
        "                squares_sizes.append(size**2)\n",
        "\n",
        "        elif shape == 'triangle':\n",
        "            x = np.random.randint(0, 28 - 2 * size)\n",
        "            y = np.random.randint(0, 28 - size)\n",
        "            # Check boundaries and overlap\n",
        "            if np.any(img[x-1:x+2*size, y-1:y+size+1]) or x == 0 or y == 0 or x + 2 * size - 1 == 28 or y + size == 28:\n",
        "                continue\n",
        "            else:\n",
        "                for i in range(size):\n",
        "                    img[x+i:x+2*size-i-1, y+i] = 255\n",
        "                n += 1\n",
        "                squares_sizes.append(size**2)\n",
        "\n",
        "        elif shape == 'shallow_square':\n",
        "            x = np.random.randint(0, 28 - size)\n",
        "            y = np.random.randint(0, 28 - size)\n",
        "            # Check boundaries and overlap\n",
        "            if np.any(img[x-1:x+size+1, y-1:y+size+1]) or x == 0 or y == 0 or x + size == 28 or y + size == 28:\n",
        "                continue\n",
        "            else:\n",
        "                img[x:x+size, y] = 255\n",
        "                img[x, y:y+size] = 255\n",
        "                img[x:x+size, y+size-1] = 255\n",
        "                img[x+size-1, y:y+size] = 255\n",
        "                n += 1\n",
        "                squares_sizes.append(size**2)\n",
        "\n",
        "    # Save the image if specified\n",
        "    if save:\n",
        "        # Check if the specified path exists, create it if not\n",
        "        if path and not os.path.exists(path):\n",
        "            os.makedirs(path)\n",
        "        \n",
        "        pil_img = Image.fromarray(np.uint8(img), 'L')\n",
        "        pil_img.save(os.path.join(path, f\"{name}.png\"))\n",
        "\n",
        "    # Display the image if not saving\n",
        "    else:\n",
        "        fig = plt.figure(figsize=(4, 4), frameon=False)\n",
        "        axis = fig.add_subplot(1, 1, 1)\n",
        "        axis.imshow(img, cmap='viridis')\n",
        "        axis.axis('off')\n",
        "\n",
        "    # Ensure squares_sizes list has exactly 10 elements\n",
        "    squares_sizes.extend([0] * (10 - len(squares_sizes)))\n",
        "\n",
        "    return n_objects, squares_sizes"
      ]
    },
    {
      "cell_type": "code",
      "execution_count": null,
      "metadata": {
        "colab": {
          "base_uri": "https://localhost:8080/",
          "height": 385
        },
        "id": "9BHk9PmXMHCi",
        "outputId": "2e0eaf8d-eb17-45bc-83ef-4781067aabf1"
      },
      "outputs": [],
      "source": [
        "generate_image_with_shapes(10,shape='shallow_square')"
      ]
    },
    {
      "cell_type": "code",
      "execution_count": 22,
      "metadata": {
        "id": "NGZll9ivF0dQ"
      },
      "outputs": [],
      "source": [
        "def make_objects_dataset(n_imgs: int, shape: str, path: str = '', square_size: int = 0) -> pd.DataFrame:\n",
        "    \"\"\"\n",
        "    Generate a dataset of images with specified shapes and save them to a directory.\n",
        "    \n",
        "    Parameters:\n",
        "    n_imgs (int): Number of images to generate.\n",
        "    shape (str): Shape type for objects within images ('square', 'triangle', 'shallow_square').\n",
        "    path (str): Path to save the generated images.\n",
        "    square_size (int): Size of each shape. Randomly chosen for each shape if set to 0.\n",
        "    \n",
        "    Returns:\n",
        "    pd.DataFrame: DataFrame containing image IDs, labels, pixel sums, and size details for each object.\n",
        "    \"\"\"\n",
        "   # Ensure the directory exists\n",
        "    if path and not os.path.exists(path):\n",
        "        os.makedirs(path)\n",
        "\n",
        "    ids: List[int] = []\n",
        "    labels: List[int] = []\n",
        "    sizes: List[List[int]] = [[] for _ in range(10)]\n",
        "    pixels: List[int] = []\n",
        "\n",
        "    for i in tqdm(range(n_imgs), desc=\"Generating images\"):\n",
        "        # Generate image and capture the number of objects and their areas\n",
        "        l, s = generate_image_with_shapes(n_objects=0, width=square_size, shape=shape, name=str(i), path=path, save=True)\n",
        "        \n",
        "        # Populate ids, labels, sizes, and pixels lists\n",
        "        ids.append(i)\n",
        "        labels.append(l)\n",
        "        for j in range(10):\n",
        "            sizes[j].append(s[j])\n",
        "        pixels.append(sum(s))\n",
        "    \n",
        "    # Create a dictionary for DataFrame conversion\n",
        "    data = {\n",
        "        'id': ids,\n",
        "        'label': labels,\n",
        "        'pixels': pixels\n",
        "    }\n",
        "    \n",
        "    # Add size details for each of the 10 possible shapes in each image\n",
        "    for j in range(10):\n",
        "        data[f\"s{j+1}\"] = sizes[j]\n",
        "\n",
        "    # Convert the dictionary to a DataFrame\n",
        "    df = pd.DataFrame(data)\n",
        "    df.to_csv(os.path.join(path, \"ground_truth.csv')\"), index=False)\n",
        "    return df\n"
      ]
    },
    {
      "cell_type": "code",
      "execution_count": null,
      "metadata": {
        "colab": {
          "base_uri": "https://localhost:8080/"
        },
        "id": "GYlmdx3mL2Al",
        "outputId": "3a9e5f10-5b1d-4b2d-bcdc-e824e60bdae7"
      },
      "outputs": [],
      "source": [
        "df = make_objects_dataset(20000, shape='square', path='../data/squares20k/')"
      ]
    },
    {
      "cell_type": "code",
      "execution_count": null,
      "metadata": {
        "colab": {
          "base_uri": "https://localhost:8080/"
        },
        "id": "SEqWKj_5bccK",
        "outputId": "e64b17d3-d311-431d-d186-c485d9f75200"
      },
      "outputs": [],
      "source": [
        "df = make_objects_dataset(1000, shape='triangle', path='../data/triangles1k/')"
      ]
    },
    {
      "cell_type": "code",
      "execution_count": null,
      "metadata": {
        "colab": {
          "base_uri": "https://localhost:8080/"
        },
        "id": "U350mix8eOe6",
        "outputId": "b9d1ebbb-356e-4388-9961-17140ef5e1f5"
      },
      "outputs": [],
      "source": [
        "df = make_objects_dataset(1000, shape='shallow_square', path='../data/shallow_squares1k/')"
      ]
    },
    {
      "cell_type": "code",
      "execution_count": 2,
      "metadata": {},
      "outputs": [],
      "source": [
        "import os\n",
        "import numpy as np\n",
        "import pandas as pd\n",
        "from PIL import Image\n",
        "import matplotlib.pyplot as plt\n",
        "from tqdm import tqdm\n",
        "from typing import Tuple, List\n",
        "\n",
        "# Shape Generation Functions\n",
        "\n",
        "def create_square(img: np.ndarray, x: int, y: int, size: int) -> None:\n",
        "    \"\"\"Draw a square on the provided image array at the specified coordinates and size.\"\"\"\n",
        "    img[x:x + size, y:y + size] = 255\n",
        "\n",
        "def create_triangle(img: np.ndarray, x: int, y: int, size: int) -> None:\n",
        "    \"\"\"Draw a triangle on the provided image array at the specified coordinates and size.\"\"\"\n",
        "    for i in range(size):\n",
        "        img[x + i:x + 2 * size - i - 1, y + i] = 255\n",
        "\n",
        "def create_shallow_square(img: np.ndarray, x: int, y: int, size: int) -> None:\n",
        "    \"\"\"Draw a shallow square (outline only) on the provided image array at the specified coordinates and size.\"\"\"\n",
        "    img[x:x + size, y] = 255\n",
        "    img[x, y:y + size] = 255\n",
        "    img[x:x + size, y + size - 1] = 255\n",
        "    img[x + size - 1, y:y + size] = 255\n",
        "\n",
        "# Helper Function to Check Position Validity\n",
        "\n",
        "def check_position_validity(img: np.ndarray, x: int, y: int, size: int) -> bool:\n",
        "    \"\"\"Check if a shape of a given size can be placed at specified coordinates without overlapping or boundary issues.\"\"\"\n",
        "    if np.any(img[x - 1:x + size + 1, y - 1:y + size + 1]):\n",
        "        return False\n",
        "    return not (x == 0 or y == 0 or x + size == 28 or y + size == 28)\n",
        "\n",
        "# Main Shape Generation Function\n",
        "\n",
        "def generate_shape(img: np.ndarray, shape: str, x: int, y: int, size: int) -> None:\n",
        "    \"\"\"Generate a specified shape on the image at given coordinates and size.\"\"\"\n",
        "    if shape == 'square':\n",
        "        create_square(img, x, y, size)\n",
        "    elif shape == 'triangle':\n",
        "        create_triangle(img, x, y, size)\n",
        "    elif shape == 'shallow_square':\n",
        "        create_shallow_square(img, x, y, size)\n",
        "\n",
        "def generate_image_with_shapes(n_objects: int = 0, width: int = 0, shape: str = 'square', \n",
        "                               path: str = '', name: str = 'test', save: bool = False) -> Tuple[int, List[int]]:\n",
        "    \"\"\"\n",
        "    Generate a 28x28 grayscale image with specified shapes (square, triangle, or shallow square).\n",
        "    \"\"\"\n",
        "    img = np.zeros((28, 28), dtype=np.uint8)\n",
        "    n_objects = n_objects if n_objects != 0 else np.random.randint(1, 11)\n",
        "\n",
        "    n, squares_sizes = 0, []\n",
        "    while n != n_objects:\n",
        "        size = np.random.randint(3, 6) if width == 0 else width\n",
        "        x, y = np.random.randint(0, 28 - size, size=2)\n",
        "\n",
        "        if check_position_validity(img, x, y, size):\n",
        "            generate_shape(img, shape, x, y, size)\n",
        "            squares_sizes.append(size ** 2)\n",
        "            n += 1\n",
        "\n",
        "    # Save the image if requested\n",
        "    if save:\n",
        "        if path and not os.path.exists(path):\n",
        "            os.makedirs(path)\n",
        "        pil_img = Image.fromarray(img, 'L')\n",
        "        pil_img.save(os.path.join(path, f\"{name}.png\"))\n",
        "\n",
        "    return n_objects, squares_sizes + [0] * (10 - len(squares_sizes))\n",
        "\n",
        "def make_objects_dataset(n_imgs: int, shape: str, path: str = '', square_size: int = 0) -> None:\n",
        "    \"\"\"\n",
        "    Generate a dataset of images with specified shapes and save them to a directory.\n",
        "    \"\"\"\n",
        "    if path and not os.path.exists(path):\n",
        "        os.makedirs(path)\n",
        "\n",
        "    ids, labels, sizes, pixels = [], [], [[] for _ in range(10)], []\n",
        "\n",
        "    for i in tqdm(range(n_imgs), desc=\"Generating images\"):\n",
        "        l, s = generate_image_with_shapes(n_objects=0, width=square_size, shape=shape, name=str(i), path=path, save=True)\n",
        "        \n",
        "        ids.append(i)\n",
        "        labels.append(l)\n",
        "        for j in range(10):\n",
        "            sizes[j].append(s[j])\n",
        "        pixels.append(sum(s))\n",
        "    \n",
        "    data = {\n",
        "        'id': ids,\n",
        "        'label': labels,\n",
        "        'pixels': pixels,\n",
        "        **{f\"s{j+1}\": sizes[j] for j in range(10)}\n",
        "    }\n",
        "\n",
        "    df = pd.DataFrame(data)\n",
        "    df.to_csv(os.path.join(path, \"ground_truth.csv')\"), index=False)\n"
      ]
    },
    {
      "cell_type": "code",
      "execution_count": null,
      "metadata": {},
      "outputs": [],
      "source": [
        "make_objects_dataset(1000, shape='shallow_square', path='../data/shallow_squares/')"
      ]
    },
    {
      "cell_type": "code",
      "execution_count": null,
      "metadata": {},
      "outputs": [],
      "source": [
        "make_objects_dataset(1000, shape='triangle', path='../data/triangles/')"
      ]
    },
    {
      "cell_type": "code",
      "execution_count": null,
      "metadata": {},
      "outputs": [],
      "source": [
        "make_objects_dataset(20000, shape='square', path='../data/squares/')"
      ]
    }
  ],
  "metadata": {
    "colab": {
      "provenance": []
    },
    "kernelspec": {
      "display_name": ".venv",
      "language": "python",
      "name": "python3"
    },
    "language_info": {
      "codemirror_mode": {
        "name": "ipython",
        "version": 3
      },
      "file_extension": ".py",
      "mimetype": "text/x-python",
      "name": "python",
      "nbconvert_exporter": "python",
      "pygments_lexer": "ipython3",
      "version": "3.12.5"
    }
  },
  "nbformat": 4,
  "nbformat_minor": 0
}
