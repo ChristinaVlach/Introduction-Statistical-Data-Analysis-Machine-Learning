{
 "cells": [
  {
   "cell_type": "markdown",
   "metadata": {},
   "source": [
    "# FEATURE EXTRACTION ANALYSIS"
   ]
  },
  {
   "cell_type": "markdown",
   "metadata": {},
   "source": [
    "\n",
    "The goal of feature extraction is to transform raw data into a reduced set of informative characteristics, or \"features,\" that capture essential information from the data, often in a lower-dimensional space."
   ]
  },
  {
   "cell_type": "markdown",
   "metadata": {},
   "source": [
    "Given a set of input data points $X = {x_0, x_1, ..., x_n}$, where each $x \\in \\mathbb{R}^D$, the objective is to define a function $f(x, \\theta)$ that maps each input $x$ to a new representation \\$z = f(x, \\theta)$, with $z \\in \\mathbb{R}^d$. Typically, we aim for $d \\ll D$, allowing for a more compact and efficient representation of the data. Here, $\\theta$ represents the parameters of the model optimized to capture essential features in a reduced dimension."
   ]
  },
  {
   "cell_type": "markdown",
   "metadata": {},
   "source": [
    "## Example 1:  MNIST Digits"
   ]
  },
  {
   "cell_type": "markdown",
   "metadata": {},
   "source": [
    "### Loading the MNIST dataset"
   ]
  },
  {
   "cell_type": "code",
   "execution_count": 1,
   "metadata": {},
   "outputs": [],
   "source": [
    "import gzip\n",
    "import os\n",
    "import numpy as np\n",
    "import struct\n",
    "\n",
    "\n",
    "def load_mnist(path, kind='train'):\n",
    "    \"\"\"Load MNIST data from `path`\"\"\"\n",
    "    labels_path = os.path.join(path, f'{kind}-labels-idx1-ubyte.gz')\n",
    "    images_path = os.path.join(path, f'{kind}-images-idx3-ubyte.gz')\n",
    "\n",
    "    with gzip.open(labels_path, 'rb') as lbpath:\n",
    "        _, _ = struct.unpack('>II', lbpath.read(8))\n",
    "        labels = np.frombuffer(lbpath.read(), dtype=np.uint8)\n",
    "\n",
    "    with gzip.open(images_path, 'rb') as imgpath:\n",
    "        _, num, rows, cols = struct.unpack('>IIII', imgpath.read(16))\n",
    "        images = np.frombuffer(imgpath.read(), dtype=np.uint8).reshape(num, rows*cols)\n",
    "\n",
    "    return images, labels"
   ]
  },
  {
   "cell_type": "code",
   "execution_count": 2,
   "metadata": {},
   "outputs": [
    {
     "name": "stdout",
     "output_type": "stream",
     "text": [
      "Training set shape: (60000, 784), Training labels shape: (60000,)\n",
      "Test set shape: (10000, 784), Test labels shape: (10000,)\n"
     ]
    }
   ],
   "source": [
    "# Load the dataset\n",
    "mnist_path = '../supplemental_material/MNIST' \n",
    "X_train, y_train = load_mnist(mnist_path, kind='train')\n",
    "X_test, y_test = load_mnist(mnist_path, kind='t10k')\n",
    "\n",
    "print(f\"Training set shape: {X_train.shape}, Training labels shape: {y_train.shape}\")\n",
    "print(f\"Test set shape: {X_test.shape}, Test labels shape: {y_test.shape}\")"
   ]
  },
  {
   "cell_type": "markdown",
   "metadata": {},
   "source": [
    "### MLP as feature extractor"
   ]
  },
  {
   "cell_type": "code",
   "execution_count": 3,
   "metadata": {},
   "outputs": [],
   "source": [
    "import torch\n",
    "import torch.nn as nn\n",
    "\n",
    "class MLP(nn.Module):\n",
    "    def __init__(self, input_size=784, hidden_size=128, output_size=64):\n",
    "        super(MLP, self).__init__()\n",
    "        self.fc1 = nn.Linear(input_size, hidden_size)\n",
    "        self.relu = nn.ReLU()\n",
    "        self.fc2 = nn.Linear(hidden_size, output_size)\n",
    "        self.sigmoid = nn.Sigmoid()\n",
    "\n",
    "    def forward(self, x, return_features=False):\n",
    "        out = self.fc1(x)\n",
    "        out = self.relu(out)\n",
    "        features = self.fc2(out)\n",
    "        if return_features:\n",
    "            return features  # Return features before final activation\n",
    "        out = self.sigmoid(features)\n",
    "        return out"
   ]
  },
  {
   "cell_type": "code",
   "execution_count": 4,
   "metadata": {},
   "outputs": [],
   "source": [
    "# Convert the data to PyTorch tensors and normalize it\n",
    "X_train_tensor = torch.tensor(X_train, dtype=torch.float32) / 255.0  \n",
    "X_test_tensor = torch.tensor(X_test, dtype=torch.float32) / 255.0"
   ]
  },
  {
   "cell_type": "code",
   "execution_count": 5,
   "metadata": {},
   "outputs": [
    {
     "name": "stdout",
     "output_type": "stream",
     "text": [
      "Extracted feature shape for training set: torch.Size([60000, 64])\n"
     ]
    }
   ],
   "source": [
    "model = MLP()\n",
    "with torch.no_grad():\n",
    "    train_features = model(X_train_tensor, return_features=True)\n",
    "\n",
    "print(f\"Extracted feature shape for training set: {train_features.shape}\")"
   ]
  },
  {
   "cell_type": "code",
   "execution_count": 6,
   "metadata": {},
   "outputs": [],
   "source": [
    "from sklearn.manifold import TSNE\n",
    "\n",
    "# Reduce the dimensionality of the features to 2D\n",
    "tsne = TSNE(n_components=2, random_state=42)\n",
    "reduced_features = tsne.fit_transform(train_features)"
   ]
  },
  {
   "cell_type": "code",
   "execution_count": 7,
   "metadata": {},
   "outputs": [
    {
     "ename": "ModuleNotFoundError",
     "evalue": "No module named 'seaborn'",
     "output_type": "error",
     "traceback": [
      "\u001b[0;31m---------------------------------------------------------------------------\u001b[0m",
      "\u001b[0;31mModuleNotFoundError\u001b[0m                       Traceback (most recent call last)",
      "Cell \u001b[0;32mIn[7], line 1\u001b[0m\n\u001b[0;32m----> 1\u001b[0m \u001b[38;5;28;01mimport\u001b[39;00m \u001b[38;5;21;01mseaborn\u001b[39;00m \u001b[38;5;28;01mas\u001b[39;00m \u001b[38;5;21;01msns\u001b[39;00m\n\u001b[1;32m      2\u001b[0m \u001b[38;5;28;01mimport\u001b[39;00m \u001b[38;5;21;01mmatplotlib\u001b[39;00m\u001b[38;5;21;01m.\u001b[39;00m\u001b[38;5;21;01mpyplot\u001b[39;00m \u001b[38;5;28;01mas\u001b[39;00m \u001b[38;5;21;01mplt\u001b[39;00m\n\u001b[1;32m      5\u001b[0m \u001b[38;5;28;01mdef\u001b[39;00m \u001b[38;5;21mplot_features\u001b[39m(features, labels):\n",
      "\u001b[0;31mModuleNotFoundError\u001b[0m: No module named 'seaborn'"
     ]
    }
   ],
   "source": [
    "import seaborn as sns\n",
    "import matplotlib.pyplot as plt\n",
    "\n",
    "\n",
    "def plot_features(features, labels):\n",
    "    \"\"\"\n",
    "    Reduces precomputed features to 2D using t-SNE and plots them with colors by label.\n",
    "\n",
    "    Parameters:\n",
    "        features (np.array): Precomputed feature vectors.\n",
    "        labels (np.array): Labels for the data points to color the plot.\n",
    "    \"\"\"\n",
    "    plt.figure(figsize=(10, 8))\n",
    "    sns.scatterplot(\n",
    "        x=features[:, 0], \n",
    "        y=features[:, 1], \n",
    "        hue=labels, \n",
    "        palette=\"tab10\", \n",
    "        s=30, \n",
    "        alpha=0.7, \n",
    "        edgecolor='k', \n",
    "        legend=\"full\"\n",
    "    )\n",
    "    plt.title(\"2D Visualization of Features using t-SNE\")\n",
    "    plt.xlabel(\"t-SNE Component 1\")\n",
    "    plt.ylabel(\"t-SNE Component 2\")\n",
    "    plt.legend(title=\"Label\", loc=\"best\")\n",
    "    plt.show()"
   ]
  },
  {
   "cell_type": "code",
   "execution_count": null,
   "metadata": {},
   "outputs": [],
   "source": [
    "plot_features(reduced_features, y_train)"
   ]
  },
  {
   "cell_type": "code",
   "execution_count": null,
   "metadata": {},
   "outputs": [],
   "source": [
    "# load the model weights\n",
    "weights = os.path.join(\"data\", \"weights\", \"MLP, MNIST.pth\")\n",
    "model.load_state_dict(torch.load(weights))\n",
    "model.eval()\n",
    "with torch.no_grad():\n",
    "    train_features = model(X_train_tensor, return_features=True)\n",
    "\n",
    "tsne = TSNE(n_components=2, random_state=42)\n",
    "reduced_features = tsne.fit_transform(train_features)\n",
    "plot_features(reduced_features, y_train)"
   ]
  },
  {
   "cell_type": "markdown",
   "metadata": {},
   "source": [
    "### LeNet as feature extractor"
   ]
  },
  {
   "cell_type": "code",
   "execution_count": null,
   "metadata": {},
   "outputs": [],
   "source": [
    "class LeNet5(nn.Module):\n",
    "    def __init__(self):\n",
    "        super(LeNet5, self).__init__()\n",
    "        self.conv1 = nn.Conv2d(1, 6, kernel_size=5, stride=1, padding=2)\n",
    "        self.conv2 = nn.Conv2d(6, 16, kernel_size=5, stride=1)\n",
    "        self.fc1 = nn.Linear(16 * 5 * 5, 120)\n",
    "        self.fc2 = nn.Linear(120, 84)\n",
    "        self.fc3 = nn.Linear(84, 2)  # Output 2 classes: circle and no-circle\n",
    "\n",
    "    def forward(self, x, return_features=False):\n",
    "        x = torch.relu(self.conv1(x))\n",
    "        x = torch.max_pool2d(x, kernel_size=2, stride=2)\n",
    "        x = torch.relu(self.conv2(x))\n",
    "        x = torch.max_pool2d(x, kernel_size=2, stride=2)\n",
    "        x = x.view(-1, 16 * 5 * 5)\n",
    "        x = torch.relu(self.fc1(x))\n",
    "        features = torch.relu(self.fc2(x))\n",
    "        if return_features:\n",
    "            return features  # Return features before the final layer\n",
    "        x = self.fc3(features)\n",
    "        return x"
   ]
  },
  {
   "cell_type": "code",
   "execution_count": null,
   "metadata": {},
   "outputs": [],
   "source": [
    "model = LeNet5()\n",
    "weights = os.path.join(\"data\", \"weights\", \"Lenet5, MNIST.pth\")\n",
    "model.load_state_dict(torch.load(weights))\n",
    "model.eval()\n",
    "X_train_tensor = torch.tensor(X_train, dtype=torch.float32).view(-1, 1, 28, 28) / 255.0\n",
    "with torch.no_grad():\n",
    "    train_features = model(X_train_tensor, return_features=True)\n",
    "\n",
    "print(f\"Extracted feature shape for training set: {train_features.shape}\")"
   ]
  },
  {
   "cell_type": "code",
   "execution_count": null,
   "metadata": {},
   "outputs": [],
   "source": [
    "tsne = TSNE(n_components=2, random_state=42)\n",
    "reduced_features = tsne.fit_transform(train_features)\n",
    "plot_features(reduced_features, y_train)"
   ]
  }
 ],
 "metadata": {
  "kernelspec": {
   "display_name": "Python 3",
   "language": "python",
   "name": "python3"
  },
  "language_info": {
   "codemirror_mode": {
    "name": "ipython",
    "version": 3
   },
   "file_extension": ".py",
   "mimetype": "text/x-python",
   "name": "python",
   "nbconvert_exporter": "python",
   "pygments_lexer": "ipython3",
   "version": "3.10.10"
  }
 },
 "nbformat": 4,
 "nbformat_minor": 2
}
